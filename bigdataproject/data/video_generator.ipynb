{
  "nbformat": 4,
  "nbformat_minor": 0,
  "metadata": {
    "colab": {
      "provenance": []
    },
    "kernelspec": {
      "name": "python3",
      "display_name": "Python 3"
    },
    "language_info": {
      "name": "python"
    }
  },
  "cells": [
    {
      "cell_type": "code",
      "execution_count": null,
      "metadata": {
        "colab": {
          "base_uri": "https://localhost:8080/"
        },
        "id": "XgxDcENxtbqm",
        "outputId": "86c5208f-7937-42d2-b88c-73616fe46fe3"
      },
      "outputs": [
        {
          "output_type": "stream",
          "name": "stdout",
          "text": [
            "Video file '/content/output.mp4' created successfully!\n"
          ]
        }
      ],
      "source": [
        "import cv2\n",
        "import numpy as np\n",
        "import os\n",
        "\n",
        "# Set the path to the image file and desired video file\n",
        "image_path = \"mona.jpeg\"\n",
        "video_path = \"output.mp4\"\n",
        "\n",
        "# Set the desired video length in seconds\n",
        "video_length = 10\n",
        "\n",
        "# Load the image and get its dimensions\n",
        "img = cv2.imread(image_path)\n",
        "height, width, channels = img.shape\n",
        "\n",
        "# Set the video frame rate and codec\n",
        "fps = 30\n",
        "fourcc = cv2.VideoWriter_fourcc(*\"mp4v\")\n",
        "\n",
        "# Create a video writer object and open the file\n",
        "video_writer = cv2.VideoWriter(video_path, fourcc, fps, (width, height))\n",
        "\n",
        "# Write the image to the video file repeatedly to make the video desired length\n",
        "for i in range(fps * video_length):\n",
        "    video_writer.write(img)\n",
        "\n",
        "# Release the video writer and close the file\n",
        "video_writer.release()\n",
        "cv2.destroyAllWindows()\n",
        "\n",
        "# Print message indicating successful completion of the script\n",
        "print(f\"Video file '{os.path.abspath(video_path)}' created successfully!\")"
      ]
    },
    {
      "cell_type": "code",
      "source": [],
      "metadata": {
        "id": "gHgsZUX7uZ2q"
      },
      "execution_count": null,
      "outputs": []
    }
  ]
}