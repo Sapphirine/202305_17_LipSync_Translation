{
  "nbformat": 4,
  "nbformat_minor": 0,
  "metadata": {
    "colab": {
      "provenance": []
    },
    "kernelspec": {
      "name": "python3",
      "display_name": "Python 3"
    },
    "language_info": {
      "name": "python"
    }
  },
  "cells": [
    {
      "cell_type": "code",
      "execution_count": null,
      "metadata": {
        "id": "XlPaRLw1A_T6"
      },
      "outputs": [],
      "source": [
        "from pytube import YouTube"
      ]
    },
    {
      "cell_type": "code",
      "source": [
        "! pip install pytube"
      ],
      "metadata": {
        "colab": {
          "base_uri": "https://localhost:8080/"
        },
        "id": "pFyglffpBUnA",
        "outputId": "a663e2e1-9e91-4320-f677-9c13ab8414dd"
      },
      "execution_count": null,
      "outputs": [
        {
          "output_type": "stream",
          "name": "stdout",
          "text": [
            "Looking in indexes: https://pypi.org/simple, https://us-python.pkg.dev/colab-wheels/public/simple/\n",
            "Collecting pytube\n",
            "  Downloading pytube-12.1.3-py3-none-any.whl (57 kB)\n",
            "\u001b[2K     \u001b[90m━━━━━━━━━━━━━━━━━━━━━━━━━━━━━━━━━━━━━━━━\u001b[0m \u001b[32m57.2/57.2 kB\u001b[0m \u001b[31m7.9 MB/s\u001b[0m eta \u001b[36m0:00:00\u001b[0m\n",
            "\u001b[?25hInstalling collected packages: pytube\n",
            "Successfully installed pytube-12.1.3\n"
          ]
        }
      ]
    },
    {
      "cell_type": "code",
      "source": [
        "! pip install ffmpeg"
      ],
      "metadata": {
        "colab": {
          "base_uri": "https://localhost:8080/"
        },
        "id": "t_crkkUkMyYD",
        "outputId": "67da6294-5f28-4ee9-c825-b9bd32ea54cc"
      },
      "execution_count": null,
      "outputs": [
        {
          "output_type": "stream",
          "name": "stdout",
          "text": [
            "Looking in indexes: https://pypi.org/simple, https://us-python.pkg.dev/colab-wheels/public/simple/\n",
            "Collecting ffmpeg\n",
            "  Downloading ffmpeg-1.4.tar.gz (5.1 kB)\n",
            "  Preparing metadata (setup.py) ... \u001b[?25l\u001b[?25hdone\n",
            "Building wheels for collected packages: ffmpeg\n",
            "  Building wheel for ffmpeg (setup.py) ... \u001b[?25l\u001b[?25hdone\n",
            "  Created wheel for ffmpeg: filename=ffmpeg-1.4-py3-none-any.whl size=6083 sha256=76ea55a94c3d9576c88adf4d9e807c2daf127f24475a33cbdac2f6aac317d179\n",
            "  Stored in directory: /root/.cache/pip/wheels/1d/57/24/4eff6a03a9ea0e647568e8a5a0546cdf957e3cf005372c0245\n",
            "Successfully built ffmpeg\n",
            "Installing collected packages: ffmpeg\n",
            "Successfully installed ffmpeg-1.4\n"
          ]
        }
      ]
    },
    {
      "cell_type": "code",
      "source": [
        "import os"
      ],
      "metadata": {
        "id": "FkvZqjTlHJ_E"
      },
      "execution_count": null,
      "outputs": []
    },
    {
      "cell_type": "code",
      "source": [
        "#video one\n",
        "import os\n",
        "from pytube import YouTube\n",
        "from datetime import datetime\n",
        "from moviepy.video.io.VideoFileClip import VideoFileClip\n",
        "\n",
        "def download_and_extract_video_segment(url, start_time, end_time, outpath=\"./\"):\n",
        "    # Download the video to a temporary file\n",
        "    yt = YouTube(url)\n",
        "    stream = yt.streams.filter(res=\"360p\").first()\n",
        "    filename_prefix = \"temp_\"\n",
        "    temp_file = f\"{outpath}/{filename_prefix}{yt.title}.mp4\"\n",
        "    print(f\"Downloading video to {temp_file}\")\n",
        "    stream.download(output_path=outpath, filename_prefix=filename_prefix)\n",
        "\n",
        "    # Convert start and end times to seconds\n",
        "    start_time = datetime.strptime(start_time, \"%H:%M:%S\")\n",
        "    end_time = datetime.strptime(end_time, \"%H:%M:%S\")\n",
        "    start_seconds = start_time.hour * 3600 + start_time.minute * 60 + start_time.second\n",
        "    end_seconds = end_time.hour * 3600 + end_time.minute * 60 + end_time.second\n",
        "\n",
        "    # Load the video clip and extract the desired segment\n",
        "    clip = VideoFileClip(temp_file).subclip(start_seconds, end_seconds)\n",
        "\n",
        "    # Save the video segment to file with audio\n",
        "    segment_file = f\"{outpath}/segment_{yt.title}.mp4\"\n",
        "    clip.write_videofile(segment_file, codec=\"libx264\", audio_codec=\"aac\")\n",
        "\n",
        "    # Remove the full length video\n",
        "    os.remove(temp_file)\n",
        "    print(\"Removed the video successfully.\")\n",
        "\n",
        "    print(\"Video segment extracted successfully.\")\n",
        "    return segment_file\n",
        "\n",
        "\n"
      ],
      "metadata": {
        "id": "S3OZs16silYY"
      },
      "execution_count": null,
      "outputs": []
    },
    {
      "cell_type": "code",
      "source": [
        "import os\n",
        "from moviepy.video.io.VideoFileClip import VideoFileClip\n",
        "\n",
        "def divide_video_segment(segment_file, outpath=\"./\"):\n",
        "    # Load the video clip\n",
        "    clip = VideoFileClip(segment_file)\n",
        "\n",
        "    # Calculate the duration of the video in seconds\n",
        "    duration = clip.duration\n",
        "\n",
        "    # Divide the video into 10-second parts\n",
        "    start_times = range(0, int(duration), 10)\n",
        "    end_times = [min(start_time+10, duration) for start_time in start_times]\n",
        "\n",
        "    # Save each 10-second part to file\n",
        "    filenames = []\n",
        "    for i, (start_time, end_time) in enumerate(zip(start_times, end_times)):\n",
        "        filename = f\"{outpath}/segment_{i+1}.mp4\"\n",
        "        clip.subclip(start_time, end_time).write_videofile(filename, codec=\"libx264\", audio_codec=\"aac\")\n",
        "        filenames.append(filename)\n",
        "\n",
        "    print(\"Video segment divided and saved successfully.\")\n",
        "    return filenames\n",
        "\n",
        "segment_file = \"/content/segment_The Speech that Made Obama President.mp4\"\n",
        "outpath = \"/content\"\n",
        "filenames = divide_video_segment(segment_file, outpath)\n",
        "print(f\"Video segments saved to {filenames}\")\n"
      ],
      "metadata": {
        "colab": {
          "base_uri": "https://localhost:8080/"
        },
        "id": "L1jXS3y7YePy",
        "outputId": "f2d7bf33-6c17-4392-c78b-723dcb2a4faa"
      },
      "execution_count": null,
      "outputs": [
        {
          "output_type": "stream",
          "name": "stdout",
          "text": [
            "Moviepy - Building video /content/segment_1.mp4.\n",
            "MoviePy - Writing audio in segment_1TEMP_MPY_wvf_snd.mp4\n"
          ]
        },
        {
          "output_type": "stream",
          "name": "stderr",
          "text": []
        },
        {
          "output_type": "stream",
          "name": "stdout",
          "text": [
            "MoviePy - Done.\n",
            "Moviepy - Writing video /content/segment_1.mp4\n",
            "\n"
          ]
        },
        {
          "output_type": "stream",
          "name": "stderr",
          "text": []
        },
        {
          "output_type": "stream",
          "name": "stdout",
          "text": [
            "Moviepy - Done !\n",
            "Moviepy - video ready /content/segment_1.mp4\n",
            "Moviepy - Building video /content/segment_2.mp4.\n",
            "MoviePy - Writing audio in segment_2TEMP_MPY_wvf_snd.mp4\n"
          ]
        },
        {
          "output_type": "stream",
          "name": "stderr",
          "text": []
        },
        {
          "output_type": "stream",
          "name": "stdout",
          "text": [
            "MoviePy - Done.\n",
            "Moviepy - Writing video /content/segment_2.mp4\n",
            "\n"
          ]
        },
        {
          "output_type": "stream",
          "name": "stderr",
          "text": []
        },
        {
          "output_type": "stream",
          "name": "stdout",
          "text": [
            "Moviepy - Done !\n",
            "Moviepy - video ready /content/segment_2.mp4\n",
            "Moviepy - Building video /content/segment_3.mp4.\n",
            "MoviePy - Writing audio in segment_3TEMP_MPY_wvf_snd.mp4\n"
          ]
        },
        {
          "output_type": "stream",
          "name": "stderr",
          "text": []
        },
        {
          "output_type": "stream",
          "name": "stdout",
          "text": [
            "MoviePy - Done.\n",
            "Moviepy - Writing video /content/segment_3.mp4\n",
            "\n"
          ]
        },
        {
          "output_type": "stream",
          "name": "stderr",
          "text": []
        },
        {
          "output_type": "stream",
          "name": "stdout",
          "text": [
            "Moviepy - Done !\n",
            "Moviepy - video ready /content/segment_3.mp4\n",
            "Moviepy - Building video /content/segment_4.mp4.\n",
            "MoviePy - Writing audio in segment_4TEMP_MPY_wvf_snd.mp4\n"
          ]
        },
        {
          "output_type": "stream",
          "name": "stderr",
          "text": []
        },
        {
          "output_type": "stream",
          "name": "stdout",
          "text": [
            "MoviePy - Done.\n",
            "Moviepy - Writing video /content/segment_4.mp4\n",
            "\n"
          ]
        },
        {
          "output_type": "stream",
          "name": "stderr",
          "text": []
        },
        {
          "output_type": "stream",
          "name": "stdout",
          "text": [
            "Moviepy - Done !\n",
            "Moviepy - video ready /content/segment_4.mp4\n",
            "Moviepy - Building video /content/segment_5.mp4.\n",
            "MoviePy - Writing audio in segment_5TEMP_MPY_wvf_snd.mp4\n"
          ]
        },
        {
          "output_type": "stream",
          "name": "stderr",
          "text": []
        },
        {
          "output_type": "stream",
          "name": "stdout",
          "text": [
            "MoviePy - Done.\n",
            "Moviepy - Writing video /content/segment_5.mp4\n",
            "\n"
          ]
        },
        {
          "output_type": "stream",
          "name": "stderr",
          "text": []
        },
        {
          "output_type": "stream",
          "name": "stdout",
          "text": [
            "Moviepy - Done !\n",
            "Moviepy - video ready /content/segment_5.mp4\n",
            "Moviepy - Building video /content/segment_6.mp4.\n",
            "MoviePy - Writing audio in segment_6TEMP_MPY_wvf_snd.mp4\n"
          ]
        },
        {
          "output_type": "stream",
          "name": "stderr",
          "text": []
        },
        {
          "output_type": "stream",
          "name": "stdout",
          "text": [
            "MoviePy - Done.\n",
            "Moviepy - Writing video /content/segment_6.mp4\n",
            "\n"
          ]
        },
        {
          "output_type": "stream",
          "name": "stderr",
          "text": []
        },
        {
          "output_type": "stream",
          "name": "stdout",
          "text": [
            "Moviepy - Done !\n",
            "Moviepy - video ready /content/segment_6.mp4\n",
            "Video segment divided and saved successfully.\n",
            "Video segments saved to ['/content/segment_1.mp4', '/content/segment_2.mp4', '/content/segment_3.mp4', '/content/segment_4.mp4', '/content/segment_5.mp4', '/content/segment_6.mp4']\n"
          ]
        }
      ]
    },
    {
      "cell_type": "code",
      "source": [
        "#video one\n",
        "import os\n",
        "from pytube import YouTube\n",
        "from datetime import datetime\n",
        "from moviepy.video.io.VideoFileClip import VideoFileClip\n",
        "\n",
        "def download_and_extract_video_segment(url, start_time, end_time, outpath=\"./\"):\n",
        "    # Download the video to a temporary file\n",
        "    yt = YouTube(url)\n",
        "    stream = yt.streams.filter(res=\"360p\").first()\n",
        "    filename_prefix = \"temp_\"\n",
        "    temp_file = f\"{outpath}/{filename_prefix}{yt.title}.mp4\"\n",
        "    print(f\"Downloading video to {temp_file}\")\n",
        "    stream.download(output_path=outpath, filename_prefix=filename_prefix)\n",
        "\n",
        "    # Convert start and end times to seconds\n",
        "    start_time = datetime.strptime(start_time, \"%H:%M:%S\")\n",
        "    end_time = datetime.strptime(end_time, \"%H:%M:%S\")\n",
        "    start_seconds = start_time.hour * 3600 + start_time.minute * 60 + start_time.second\n",
        "    end_seconds = end_time.hour * 3600 + end_time.minute * 60 + end_time.second\n",
        "\n",
        "    # Load the video clip and extract the desired segment\n",
        "    clip = VideoFileClip(temp_file).subclip(start_seconds, end_seconds)\n",
        "\n",
        "    # Save the video segment to file with audio\n",
        "    segment_file = f\"{outpath}/segment_{yt.title}.mp4\"\n",
        "    clip.write_videofile(segment_file, codec=\"libx264\", audio_codec=\"aac\")\n",
        "\n",
        "    # Remove the full length video\n",
        "    os.remove(temp_file)\n",
        "    print(\"Removed the video successfully.\")\n",
        "\n",
        "    print(\"Video segment extracted successfully.\")\n",
        "    return segment_file\n",
        "\n",
        "url = \"https://www.youtube.com/watch?v=vjdNewrG20E&ab_channel=SUCCESSINSIDER\" \n",
        "start_time = \"00:00:45\" # Start extracting from 1 minute 23 seconds\n",
        "end_time = \"00:05:00\" # End extracting at 2 minutes 17 seconds\n",
        "outpath = \"/content/drive/MyDrive/2nd sem/Adv Big Data & AI/downloaded_video/Video_1\"\n",
        "\n",
        "extracted_file = download_and_extract_video_segment(url, start_time, end_time, outpath)\n",
        "print(f\"Extracted video segment saved to {extracted_file}\")\n"
      ],
      "metadata": {
        "id": "qilNHkaCZSnK",
        "colab": {
          "base_uri": "https://localhost:8080/"
        },
        "outputId": "08897abd-0211-434c-c85b-078fe1393596"
      },
      "execution_count": null,
      "outputs": [
        {
          "output_type": "stream",
          "name": "stdout",
          "text": [
            "Downloading video to /content/drive/MyDrive/2nd sem/Adv Big Data & AI/downloaded_video/Video_1/temp_How To Speak With Confidence & Authority (3 EASY TRICKS!).mp4\n",
            "Moviepy - Building video /content/drive/MyDrive/2nd sem/Adv Big Data & AI/downloaded_video/Video_1/segment_How To Speak With Confidence & Authority (3 EASY TRICKS!).mp4.\n",
            "MoviePy - Writing audio in segment_How To Speak With Confidence & Authority (3 EASY TRICKS!)TEMP_MPY_wvf_snd.mp4\n"
          ]
        },
        {
          "output_type": "stream",
          "name": "stderr",
          "text": []
        },
        {
          "output_type": "stream",
          "name": "stdout",
          "text": [
            "MoviePy - Done.\n",
            "Moviepy - Writing video /content/drive/MyDrive/2nd sem/Adv Big Data & AI/downloaded_video/Video_1/segment_How To Speak With Confidence & Authority (3 EASY TRICKS!).mp4\n",
            "\n"
          ]
        },
        {
          "output_type": "stream",
          "name": "stderr",
          "text": []
        },
        {
          "output_type": "stream",
          "name": "stdout",
          "text": [
            "Moviepy - Done !\n",
            "Moviepy - video ready /content/drive/MyDrive/2nd sem/Adv Big Data & AI/downloaded_video/Video_1/segment_How To Speak With Confidence & Authority (3 EASY TRICKS!).mp4\n",
            "Removed the video successfully.\n",
            "Video segment extracted successfully.\n",
            "Extracted video segment saved to /content/drive/MyDrive/2nd sem/Adv Big Data & AI/downloaded_video/Video_1/segment_How To Speak With Confidence & Authority (3 EASY TRICKS!).mp4\n"
          ]
        }
      ]
    },
    {
      "cell_type": "code",
      "source": [
        "segment_file = \"/content/drive/MyDrive/2nd sem/Adv Big Data & AI/downloaded_video/Video_1/segment_How To Speak With Confidence & Authority (3 EASY TRICKS!).mp4\"\n",
        "outpath = \"/content/drive/MyDrive/2nd sem/Adv Big Data & AI/downloaded_video/Video_1\"\n",
        "filenames = divide_video_segment(segment_file, outpath)\n",
        "print(f\"Video segments saved to {filenames}\")"
      ],
      "metadata": {
        "colab": {
          "base_uri": "https://localhost:8080/"
        },
        "id": "d1Tbh2cpgfuh",
        "outputId": "90121630-eb79-4b1a-a4a4-1275779a16ee"
      },
      "execution_count": null,
      "outputs": [
        {
          "output_type": "stream",
          "name": "stdout",
          "text": [
            "Moviepy - Building video /content/drive/MyDrive/2nd sem/Adv Big Data & AI/downloaded_video/Video_1/segment_1.mp4.\n",
            "MoviePy - Writing audio in segment_1TEMP_MPY_wvf_snd.mp4\n"
          ]
        },
        {
          "output_type": "stream",
          "name": "stderr",
          "text": []
        },
        {
          "output_type": "stream",
          "name": "stdout",
          "text": [
            "MoviePy - Done.\n",
            "Moviepy - Writing video /content/drive/MyDrive/2nd sem/Adv Big Data & AI/downloaded_video/Video_1/segment_1.mp4\n",
            "\n"
          ]
        },
        {
          "output_type": "stream",
          "name": "stderr",
          "text": []
        },
        {
          "output_type": "stream",
          "name": "stdout",
          "text": [
            "Moviepy - Done !\n",
            "Moviepy - video ready /content/drive/MyDrive/2nd sem/Adv Big Data & AI/downloaded_video/Video_1/segment_1.mp4\n",
            "Moviepy - Building video /content/drive/MyDrive/2nd sem/Adv Big Data & AI/downloaded_video/Video_1/segment_2.mp4.\n",
            "MoviePy - Writing audio in segment_2TEMP_MPY_wvf_snd.mp4\n"
          ]
        },
        {
          "output_type": "stream",
          "name": "stderr",
          "text": []
        },
        {
          "output_type": "stream",
          "name": "stdout",
          "text": [
            "MoviePy - Done.\n",
            "Moviepy - Writing video /content/drive/MyDrive/2nd sem/Adv Big Data & AI/downloaded_video/Video_1/segment_2.mp4\n",
            "\n"
          ]
        },
        {
          "output_type": "stream",
          "name": "stderr",
          "text": []
        },
        {
          "output_type": "stream",
          "name": "stdout",
          "text": [
            "Moviepy - Done !\n",
            "Moviepy - video ready /content/drive/MyDrive/2nd sem/Adv Big Data & AI/downloaded_video/Video_1/segment_2.mp4\n",
            "Moviepy - Building video /content/drive/MyDrive/2nd sem/Adv Big Data & AI/downloaded_video/Video_1/segment_3.mp4.\n",
            "MoviePy - Writing audio in segment_3TEMP_MPY_wvf_snd.mp4\n"
          ]
        },
        {
          "output_type": "stream",
          "name": "stderr",
          "text": []
        },
        {
          "output_type": "stream",
          "name": "stdout",
          "text": [
            "MoviePy - Done.\n",
            "Moviepy - Writing video /content/drive/MyDrive/2nd sem/Adv Big Data & AI/downloaded_video/Video_1/segment_3.mp4\n",
            "\n"
          ]
        },
        {
          "output_type": "stream",
          "name": "stderr",
          "text": []
        },
        {
          "output_type": "stream",
          "name": "stdout",
          "text": [
            "Moviepy - Done !\n",
            "Moviepy - video ready /content/drive/MyDrive/2nd sem/Adv Big Data & AI/downloaded_video/Video_1/segment_3.mp4\n",
            "Moviepy - Building video /content/drive/MyDrive/2nd sem/Adv Big Data & AI/downloaded_video/Video_1/segment_4.mp4.\n",
            "MoviePy - Writing audio in segment_4TEMP_MPY_wvf_snd.mp4\n"
          ]
        },
        {
          "output_type": "stream",
          "name": "stderr",
          "text": []
        },
        {
          "output_type": "stream",
          "name": "stdout",
          "text": [
            "MoviePy - Done.\n",
            "Moviepy - Writing video /content/drive/MyDrive/2nd sem/Adv Big Data & AI/downloaded_video/Video_1/segment_4.mp4\n",
            "\n"
          ]
        },
        {
          "output_type": "stream",
          "name": "stderr",
          "text": []
        },
        {
          "output_type": "stream",
          "name": "stdout",
          "text": [
            "Moviepy - Done !\n",
            "Moviepy - video ready /content/drive/MyDrive/2nd sem/Adv Big Data & AI/downloaded_video/Video_1/segment_4.mp4\n",
            "Moviepy - Building video /content/drive/MyDrive/2nd sem/Adv Big Data & AI/downloaded_video/Video_1/segment_5.mp4.\n",
            "MoviePy - Writing audio in segment_5TEMP_MPY_wvf_snd.mp4\n"
          ]
        },
        {
          "output_type": "stream",
          "name": "stderr",
          "text": []
        },
        {
          "output_type": "stream",
          "name": "stdout",
          "text": [
            "MoviePy - Done.\n",
            "Moviepy - Writing video /content/drive/MyDrive/2nd sem/Adv Big Data & AI/downloaded_video/Video_1/segment_5.mp4\n",
            "\n"
          ]
        },
        {
          "output_type": "stream",
          "name": "stderr",
          "text": []
        },
        {
          "output_type": "stream",
          "name": "stdout",
          "text": [
            "Moviepy - Done !\n",
            "Moviepy - video ready /content/drive/MyDrive/2nd sem/Adv Big Data & AI/downloaded_video/Video_1/segment_5.mp4\n",
            "Moviepy - Building video /content/drive/MyDrive/2nd sem/Adv Big Data & AI/downloaded_video/Video_1/segment_6.mp4.\n",
            "MoviePy - Writing audio in segment_6TEMP_MPY_wvf_snd.mp4\n"
          ]
        },
        {
          "output_type": "stream",
          "name": "stderr",
          "text": []
        },
        {
          "output_type": "stream",
          "name": "stdout",
          "text": [
            "MoviePy - Done.\n",
            "Moviepy - Writing video /content/drive/MyDrive/2nd sem/Adv Big Data & AI/downloaded_video/Video_1/segment_6.mp4\n",
            "\n"
          ]
        },
        {
          "output_type": "stream",
          "name": "stderr",
          "text": []
        },
        {
          "output_type": "stream",
          "name": "stdout",
          "text": [
            "Moviepy - Done !\n",
            "Moviepy - video ready /content/drive/MyDrive/2nd sem/Adv Big Data & AI/downloaded_video/Video_1/segment_6.mp4\n",
            "Moviepy - Building video /content/drive/MyDrive/2nd sem/Adv Big Data & AI/downloaded_video/Video_1/segment_7.mp4.\n",
            "MoviePy - Writing audio in segment_7TEMP_MPY_wvf_snd.mp4\n"
          ]
        },
        {
          "output_type": "stream",
          "name": "stderr",
          "text": []
        },
        {
          "output_type": "stream",
          "name": "stdout",
          "text": [
            "MoviePy - Done.\n",
            "Moviepy - Writing video /content/drive/MyDrive/2nd sem/Adv Big Data & AI/downloaded_video/Video_1/segment_7.mp4\n",
            "\n"
          ]
        },
        {
          "output_type": "stream",
          "name": "stderr",
          "text": []
        },
        {
          "output_type": "stream",
          "name": "stdout",
          "text": [
            "Moviepy - Done !\n",
            "Moviepy - video ready /content/drive/MyDrive/2nd sem/Adv Big Data & AI/downloaded_video/Video_1/segment_7.mp4\n",
            "Moviepy - Building video /content/drive/MyDrive/2nd sem/Adv Big Data & AI/downloaded_video/Video_1/segment_8.mp4.\n",
            "MoviePy - Writing audio in segment_8TEMP_MPY_wvf_snd.mp4\n"
          ]
        },
        {
          "output_type": "stream",
          "name": "stderr",
          "text": []
        },
        {
          "output_type": "stream",
          "name": "stdout",
          "text": [
            "MoviePy - Done.\n",
            "Moviepy - Writing video /content/drive/MyDrive/2nd sem/Adv Big Data & AI/downloaded_video/Video_1/segment_8.mp4\n",
            "\n"
          ]
        },
        {
          "output_type": "stream",
          "name": "stderr",
          "text": []
        },
        {
          "output_type": "stream",
          "name": "stdout",
          "text": [
            "Moviepy - Done !\n",
            "Moviepy - video ready /content/drive/MyDrive/2nd sem/Adv Big Data & AI/downloaded_video/Video_1/segment_8.mp4\n",
            "Moviepy - Building video /content/drive/MyDrive/2nd sem/Adv Big Data & AI/downloaded_video/Video_1/segment_9.mp4.\n",
            "MoviePy - Writing audio in segment_9TEMP_MPY_wvf_snd.mp4\n"
          ]
        },
        {
          "output_type": "stream",
          "name": "stderr",
          "text": []
        },
        {
          "output_type": "stream",
          "name": "stdout",
          "text": [
            "MoviePy - Done.\n",
            "Moviepy - Writing video /content/drive/MyDrive/2nd sem/Adv Big Data & AI/downloaded_video/Video_1/segment_9.mp4\n",
            "\n"
          ]
        },
        {
          "output_type": "stream",
          "name": "stderr",
          "text": []
        },
        {
          "output_type": "stream",
          "name": "stdout",
          "text": [
            "Moviepy - Done !\n",
            "Moviepy - video ready /content/drive/MyDrive/2nd sem/Adv Big Data & AI/downloaded_video/Video_1/segment_9.mp4\n",
            "Moviepy - Building video /content/drive/MyDrive/2nd sem/Adv Big Data & AI/downloaded_video/Video_1/segment_10.mp4.\n",
            "MoviePy - Writing audio in segment_10TEMP_MPY_wvf_snd.mp4\n"
          ]
        },
        {
          "output_type": "stream",
          "name": "stderr",
          "text": []
        },
        {
          "output_type": "stream",
          "name": "stdout",
          "text": [
            "MoviePy - Done.\n",
            "Moviepy - Writing video /content/drive/MyDrive/2nd sem/Adv Big Data & AI/downloaded_video/Video_1/segment_10.mp4\n",
            "\n"
          ]
        },
        {
          "output_type": "stream",
          "name": "stderr",
          "text": []
        },
        {
          "output_type": "stream",
          "name": "stdout",
          "text": [
            "Moviepy - Done !\n",
            "Moviepy - video ready /content/drive/MyDrive/2nd sem/Adv Big Data & AI/downloaded_video/Video_1/segment_10.mp4\n",
            "Moviepy - Building video /content/drive/MyDrive/2nd sem/Adv Big Data & AI/downloaded_video/Video_1/segment_11.mp4.\n",
            "MoviePy - Writing audio in segment_11TEMP_MPY_wvf_snd.mp4\n"
          ]
        },
        {
          "output_type": "stream",
          "name": "stderr",
          "text": []
        },
        {
          "output_type": "stream",
          "name": "stdout",
          "text": [
            "MoviePy - Done.\n",
            "Moviepy - Writing video /content/drive/MyDrive/2nd sem/Adv Big Data & AI/downloaded_video/Video_1/segment_11.mp4\n",
            "\n"
          ]
        },
        {
          "output_type": "stream",
          "name": "stderr",
          "text": []
        },
        {
          "output_type": "stream",
          "name": "stdout",
          "text": [
            "Moviepy - Done !\n",
            "Moviepy - video ready /content/drive/MyDrive/2nd sem/Adv Big Data & AI/downloaded_video/Video_1/segment_11.mp4\n",
            "Moviepy - Building video /content/drive/MyDrive/2nd sem/Adv Big Data & AI/downloaded_video/Video_1/segment_12.mp4.\n",
            "MoviePy - Writing audio in segment_12TEMP_MPY_wvf_snd.mp4\n"
          ]
        },
        {
          "output_type": "stream",
          "name": "stderr",
          "text": []
        },
        {
          "output_type": "stream",
          "name": "stdout",
          "text": [
            "MoviePy - Done.\n",
            "Moviepy - Writing video /content/drive/MyDrive/2nd sem/Adv Big Data & AI/downloaded_video/Video_1/segment_12.mp4\n",
            "\n"
          ]
        },
        {
          "output_type": "stream",
          "name": "stderr",
          "text": []
        },
        {
          "output_type": "stream",
          "name": "stdout",
          "text": [
            "Moviepy - Done !\n",
            "Moviepy - video ready /content/drive/MyDrive/2nd sem/Adv Big Data & AI/downloaded_video/Video_1/segment_12.mp4\n",
            "Moviepy - Building video /content/drive/MyDrive/2nd sem/Adv Big Data & AI/downloaded_video/Video_1/segment_13.mp4.\n",
            "MoviePy - Writing audio in segment_13TEMP_MPY_wvf_snd.mp4\n"
          ]
        },
        {
          "output_type": "stream",
          "name": "stderr",
          "text": []
        },
        {
          "output_type": "stream",
          "name": "stdout",
          "text": [
            "MoviePy - Done.\n",
            "Moviepy - Writing video /content/drive/MyDrive/2nd sem/Adv Big Data & AI/downloaded_video/Video_1/segment_13.mp4\n",
            "\n"
          ]
        },
        {
          "output_type": "stream",
          "name": "stderr",
          "text": []
        },
        {
          "output_type": "stream",
          "name": "stdout",
          "text": [
            "Moviepy - Done !\n",
            "Moviepy - video ready /content/drive/MyDrive/2nd sem/Adv Big Data & AI/downloaded_video/Video_1/segment_13.mp4\n",
            "Moviepy - Building video /content/drive/MyDrive/2nd sem/Adv Big Data & AI/downloaded_video/Video_1/segment_14.mp4.\n",
            "MoviePy - Writing audio in segment_14TEMP_MPY_wvf_snd.mp4\n"
          ]
        },
        {
          "output_type": "stream",
          "name": "stderr",
          "text": []
        },
        {
          "output_type": "stream",
          "name": "stdout",
          "text": [
            "MoviePy - Done.\n",
            "Moviepy - Writing video /content/drive/MyDrive/2nd sem/Adv Big Data & AI/downloaded_video/Video_1/segment_14.mp4\n",
            "\n"
          ]
        },
        {
          "output_type": "stream",
          "name": "stderr",
          "text": []
        },
        {
          "output_type": "stream",
          "name": "stdout",
          "text": [
            "Moviepy - Done !\n",
            "Moviepy - video ready /content/drive/MyDrive/2nd sem/Adv Big Data & AI/downloaded_video/Video_1/segment_14.mp4\n",
            "Moviepy - Building video /content/drive/MyDrive/2nd sem/Adv Big Data & AI/downloaded_video/Video_1/segment_15.mp4.\n",
            "MoviePy - Writing audio in segment_15TEMP_MPY_wvf_snd.mp4\n"
          ]
        },
        {
          "output_type": "stream",
          "name": "stderr",
          "text": []
        },
        {
          "output_type": "stream",
          "name": "stdout",
          "text": [
            "MoviePy - Done.\n",
            "Moviepy - Writing video /content/drive/MyDrive/2nd sem/Adv Big Data & AI/downloaded_video/Video_1/segment_15.mp4\n",
            "\n"
          ]
        },
        {
          "output_type": "stream",
          "name": "stderr",
          "text": []
        },
        {
          "output_type": "stream",
          "name": "stdout",
          "text": [
            "Moviepy - Done !\n",
            "Moviepy - video ready /content/drive/MyDrive/2nd sem/Adv Big Data & AI/downloaded_video/Video_1/segment_15.mp4\n",
            "Moviepy - Building video /content/drive/MyDrive/2nd sem/Adv Big Data & AI/downloaded_video/Video_1/segment_16.mp4.\n",
            "MoviePy - Writing audio in segment_16TEMP_MPY_wvf_snd.mp4\n"
          ]
        },
        {
          "output_type": "stream",
          "name": "stderr",
          "text": []
        },
        {
          "output_type": "stream",
          "name": "stdout",
          "text": [
            "MoviePy - Done.\n",
            "Moviepy - Writing video /content/drive/MyDrive/2nd sem/Adv Big Data & AI/downloaded_video/Video_1/segment_16.mp4\n",
            "\n"
          ]
        },
        {
          "output_type": "stream",
          "name": "stderr",
          "text": []
        },
        {
          "output_type": "stream",
          "name": "stdout",
          "text": [
            "Moviepy - Done !\n",
            "Moviepy - video ready /content/drive/MyDrive/2nd sem/Adv Big Data & AI/downloaded_video/Video_1/segment_16.mp4\n",
            "Moviepy - Building video /content/drive/MyDrive/2nd sem/Adv Big Data & AI/downloaded_video/Video_1/segment_17.mp4.\n",
            "MoviePy - Writing audio in segment_17TEMP_MPY_wvf_snd.mp4\n"
          ]
        },
        {
          "output_type": "stream",
          "name": "stderr",
          "text": []
        },
        {
          "output_type": "stream",
          "name": "stdout",
          "text": [
            "MoviePy - Done.\n",
            "Moviepy - Writing video /content/drive/MyDrive/2nd sem/Adv Big Data & AI/downloaded_video/Video_1/segment_17.mp4\n",
            "\n"
          ]
        },
        {
          "output_type": "stream",
          "name": "stderr",
          "text": []
        },
        {
          "output_type": "stream",
          "name": "stdout",
          "text": [
            "Moviepy - Done !\n",
            "Moviepy - video ready /content/drive/MyDrive/2nd sem/Adv Big Data & AI/downloaded_video/Video_1/segment_17.mp4\n",
            "Moviepy - Building video /content/drive/MyDrive/2nd sem/Adv Big Data & AI/downloaded_video/Video_1/segment_18.mp4.\n",
            "MoviePy - Writing audio in segment_18TEMP_MPY_wvf_snd.mp4\n"
          ]
        },
        {
          "output_type": "stream",
          "name": "stderr",
          "text": []
        },
        {
          "output_type": "stream",
          "name": "stdout",
          "text": [
            "MoviePy - Done.\n",
            "Moviepy - Writing video /content/drive/MyDrive/2nd sem/Adv Big Data & AI/downloaded_video/Video_1/segment_18.mp4\n",
            "\n"
          ]
        },
        {
          "output_type": "stream",
          "name": "stderr",
          "text": []
        },
        {
          "output_type": "stream",
          "name": "stdout",
          "text": [
            "Moviepy - Done !\n",
            "Moviepy - video ready /content/drive/MyDrive/2nd sem/Adv Big Data & AI/downloaded_video/Video_1/segment_18.mp4\n",
            "Moviepy - Building video /content/drive/MyDrive/2nd sem/Adv Big Data & AI/downloaded_video/Video_1/segment_19.mp4.\n",
            "MoviePy - Writing audio in segment_19TEMP_MPY_wvf_snd.mp4\n"
          ]
        },
        {
          "output_type": "stream",
          "name": "stderr",
          "text": []
        },
        {
          "output_type": "stream",
          "name": "stdout",
          "text": [
            "MoviePy - Done.\n",
            "Moviepy - Writing video /content/drive/MyDrive/2nd sem/Adv Big Data & AI/downloaded_video/Video_1/segment_19.mp4\n",
            "\n"
          ]
        },
        {
          "output_type": "stream",
          "name": "stderr",
          "text": []
        },
        {
          "output_type": "stream",
          "name": "stdout",
          "text": [
            "Moviepy - Done !\n",
            "Moviepy - video ready /content/drive/MyDrive/2nd sem/Adv Big Data & AI/downloaded_video/Video_1/segment_19.mp4\n",
            "Moviepy - Building video /content/drive/MyDrive/2nd sem/Adv Big Data & AI/downloaded_video/Video_1/segment_20.mp4.\n",
            "MoviePy - Writing audio in segment_20TEMP_MPY_wvf_snd.mp4\n"
          ]
        },
        {
          "output_type": "stream",
          "name": "stderr",
          "text": []
        },
        {
          "output_type": "stream",
          "name": "stdout",
          "text": [
            "MoviePy - Done.\n",
            "Moviepy - Writing video /content/drive/MyDrive/2nd sem/Adv Big Data & AI/downloaded_video/Video_1/segment_20.mp4\n",
            "\n"
          ]
        },
        {
          "output_type": "stream",
          "name": "stderr",
          "text": []
        },
        {
          "output_type": "stream",
          "name": "stdout",
          "text": [
            "Moviepy - Done !\n",
            "Moviepy - video ready /content/drive/MyDrive/2nd sem/Adv Big Data & AI/downloaded_video/Video_1/segment_20.mp4\n",
            "Moviepy - Building video /content/drive/MyDrive/2nd sem/Adv Big Data & AI/downloaded_video/Video_1/segment_21.mp4.\n",
            "MoviePy - Writing audio in segment_21TEMP_MPY_wvf_snd.mp4\n"
          ]
        },
        {
          "output_type": "stream",
          "name": "stderr",
          "text": []
        },
        {
          "output_type": "stream",
          "name": "stdout",
          "text": [
            "MoviePy - Done.\n",
            "Moviepy - Writing video /content/drive/MyDrive/2nd sem/Adv Big Data & AI/downloaded_video/Video_1/segment_21.mp4\n",
            "\n"
          ]
        },
        {
          "output_type": "stream",
          "name": "stderr",
          "text": []
        },
        {
          "output_type": "stream",
          "name": "stdout",
          "text": [
            "Moviepy - Done !\n",
            "Moviepy - video ready /content/drive/MyDrive/2nd sem/Adv Big Data & AI/downloaded_video/Video_1/segment_21.mp4\n",
            "Moviepy - Building video /content/drive/MyDrive/2nd sem/Adv Big Data & AI/downloaded_video/Video_1/segment_22.mp4.\n",
            "MoviePy - Writing audio in segment_22TEMP_MPY_wvf_snd.mp4\n"
          ]
        },
        {
          "output_type": "stream",
          "name": "stderr",
          "text": []
        },
        {
          "output_type": "stream",
          "name": "stdout",
          "text": [
            "MoviePy - Done.\n",
            "Moviepy - Writing video /content/drive/MyDrive/2nd sem/Adv Big Data & AI/downloaded_video/Video_1/segment_22.mp4\n",
            "\n"
          ]
        },
        {
          "output_type": "stream",
          "name": "stderr",
          "text": []
        },
        {
          "output_type": "stream",
          "name": "stdout",
          "text": [
            "Moviepy - Done !\n",
            "Moviepy - video ready /content/drive/MyDrive/2nd sem/Adv Big Data & AI/downloaded_video/Video_1/segment_22.mp4\n",
            "Moviepy - Building video /content/drive/MyDrive/2nd sem/Adv Big Data & AI/downloaded_video/Video_1/segment_23.mp4.\n",
            "MoviePy - Writing audio in segment_23TEMP_MPY_wvf_snd.mp4\n"
          ]
        },
        {
          "output_type": "stream",
          "name": "stderr",
          "text": []
        },
        {
          "output_type": "stream",
          "name": "stdout",
          "text": [
            "MoviePy - Done.\n",
            "Moviepy - Writing video /content/drive/MyDrive/2nd sem/Adv Big Data & AI/downloaded_video/Video_1/segment_23.mp4\n",
            "\n"
          ]
        },
        {
          "output_type": "stream",
          "name": "stderr",
          "text": []
        },
        {
          "output_type": "stream",
          "name": "stdout",
          "text": [
            "Moviepy - Done !\n",
            "Moviepy - video ready /content/drive/MyDrive/2nd sem/Adv Big Data & AI/downloaded_video/Video_1/segment_23.mp4\n",
            "Moviepy - Building video /content/drive/MyDrive/2nd sem/Adv Big Data & AI/downloaded_video/Video_1/segment_24.mp4.\n",
            "MoviePy - Writing audio in segment_24TEMP_MPY_wvf_snd.mp4\n"
          ]
        },
        {
          "output_type": "stream",
          "name": "stderr",
          "text": []
        },
        {
          "output_type": "stream",
          "name": "stdout",
          "text": [
            "MoviePy - Done.\n",
            "Moviepy - Writing video /content/drive/MyDrive/2nd sem/Adv Big Data & AI/downloaded_video/Video_1/segment_24.mp4\n",
            "\n"
          ]
        },
        {
          "output_type": "stream",
          "name": "stderr",
          "text": []
        },
        {
          "output_type": "stream",
          "name": "stdout",
          "text": [
            "Moviepy - Done !\n",
            "Moviepy - video ready /content/drive/MyDrive/2nd sem/Adv Big Data & AI/downloaded_video/Video_1/segment_24.mp4\n",
            "Moviepy - Building video /content/drive/MyDrive/2nd sem/Adv Big Data & AI/downloaded_video/Video_1/segment_25.mp4.\n",
            "MoviePy - Writing audio in segment_25TEMP_MPY_wvf_snd.mp4\n"
          ]
        },
        {
          "output_type": "stream",
          "name": "stderr",
          "text": []
        },
        {
          "output_type": "stream",
          "name": "stdout",
          "text": [
            "MoviePy - Done.\n",
            "Moviepy - Writing video /content/drive/MyDrive/2nd sem/Adv Big Data & AI/downloaded_video/Video_1/segment_25.mp4\n",
            "\n"
          ]
        },
        {
          "output_type": "stream",
          "name": "stderr",
          "text": []
        },
        {
          "output_type": "stream",
          "name": "stdout",
          "text": [
            "Moviepy - Done !\n",
            "Moviepy - video ready /content/drive/MyDrive/2nd sem/Adv Big Data & AI/downloaded_video/Video_1/segment_25.mp4\n",
            "Moviepy - Building video /content/drive/MyDrive/2nd sem/Adv Big Data & AI/downloaded_video/Video_1/segment_26.mp4.\n",
            "MoviePy - Writing audio in segment_26TEMP_MPY_wvf_snd.mp4\n"
          ]
        },
        {
          "output_type": "stream",
          "name": "stderr",
          "text": []
        },
        {
          "output_type": "stream",
          "name": "stdout",
          "text": [
            "MoviePy - Done.\n",
            "Moviepy - Writing video /content/drive/MyDrive/2nd sem/Adv Big Data & AI/downloaded_video/Video_1/segment_26.mp4\n",
            "\n"
          ]
        },
        {
          "output_type": "stream",
          "name": "stderr",
          "text": [
            "t: 100%|██████████| 126/126 [00:01<00:00, 77.67it/s, now=None]WARNING:py.warnings:/usr/local/lib/python3.9/dist-packages/moviepy/video/io/ffmpeg_reader.py:123: UserWarning: Warning: in file /content/drive/MyDrive/2nd sem/Adv Big Data & AI/downloaded_video/Video_1/segment_How To Speak With Confidence & Authority (3 EASY TRICKS!).mp4, 691200 bytes wanted but 0 bytes read,at frame 6375/6376, at time 255.00/255.02 sec. Using the last valid frame instead.\n",
            "  warnings.warn(\"Warning: in file %s, \"%(self.filename)+\n",
            "\n"
          ]
        },
        {
          "output_type": "stream",
          "name": "stdout",
          "text": [
            "Moviepy - Done !\n",
            "Moviepy - video ready /content/drive/MyDrive/2nd sem/Adv Big Data & AI/downloaded_video/Video_1/segment_26.mp4\n",
            "Video segment divided and saved successfully.\n",
            "Video segments saved to ['/content/drive/MyDrive/2nd sem/Adv Big Data & AI/downloaded_video/Video_1/segment_1.mp4', '/content/drive/MyDrive/2nd sem/Adv Big Data & AI/downloaded_video/Video_1/segment_2.mp4', '/content/drive/MyDrive/2nd sem/Adv Big Data & AI/downloaded_video/Video_1/segment_3.mp4', '/content/drive/MyDrive/2nd sem/Adv Big Data & AI/downloaded_video/Video_1/segment_4.mp4', '/content/drive/MyDrive/2nd sem/Adv Big Data & AI/downloaded_video/Video_1/segment_5.mp4', '/content/drive/MyDrive/2nd sem/Adv Big Data & AI/downloaded_video/Video_1/segment_6.mp4', '/content/drive/MyDrive/2nd sem/Adv Big Data & AI/downloaded_video/Video_1/segment_7.mp4', '/content/drive/MyDrive/2nd sem/Adv Big Data & AI/downloaded_video/Video_1/segment_8.mp4', '/content/drive/MyDrive/2nd sem/Adv Big Data & AI/downloaded_video/Video_1/segment_9.mp4', '/content/drive/MyDrive/2nd sem/Adv Big Data & AI/downloaded_video/Video_1/segment_10.mp4', '/content/drive/MyDrive/2nd sem/Adv Big Data & AI/downloaded_video/Video_1/segment_11.mp4', '/content/drive/MyDrive/2nd sem/Adv Big Data & AI/downloaded_video/Video_1/segment_12.mp4', '/content/drive/MyDrive/2nd sem/Adv Big Data & AI/downloaded_video/Video_1/segment_13.mp4', '/content/drive/MyDrive/2nd sem/Adv Big Data & AI/downloaded_video/Video_1/segment_14.mp4', '/content/drive/MyDrive/2nd sem/Adv Big Data & AI/downloaded_video/Video_1/segment_15.mp4', '/content/drive/MyDrive/2nd sem/Adv Big Data & AI/downloaded_video/Video_1/segment_16.mp4', '/content/drive/MyDrive/2nd sem/Adv Big Data & AI/downloaded_video/Video_1/segment_17.mp4', '/content/drive/MyDrive/2nd sem/Adv Big Data & AI/downloaded_video/Video_1/segment_18.mp4', '/content/drive/MyDrive/2nd sem/Adv Big Data & AI/downloaded_video/Video_1/segment_19.mp4', '/content/drive/MyDrive/2nd sem/Adv Big Data & AI/downloaded_video/Video_1/segment_20.mp4', '/content/drive/MyDrive/2nd sem/Adv Big Data & AI/downloaded_video/Video_1/segment_21.mp4', '/content/drive/MyDrive/2nd sem/Adv Big Data & AI/downloaded_video/Video_1/segment_22.mp4', '/content/drive/MyDrive/2nd sem/Adv Big Data & AI/downloaded_video/Video_1/segment_23.mp4', '/content/drive/MyDrive/2nd sem/Adv Big Data & AI/downloaded_video/Video_1/segment_24.mp4', '/content/drive/MyDrive/2nd sem/Adv Big Data & AI/downloaded_video/Video_1/segment_25.mp4', '/content/drive/MyDrive/2nd sem/Adv Big Data & AI/downloaded_video/Video_1/segment_26.mp4']\n"
          ]
        }
      ]
    },
    {
      "cell_type": "code",
      "source": [
        "###video 2\n",
        "url = \"https://www.youtube.com/watch?v=slivVd9hQlU&ab_channel=PublicSpeaking-LadyTinaLeder\" \n",
        "start_time = \"00:00:00\" # Start extracting from 1 minute 23 seconds\n",
        "end_time = \"00:01:17\" # End extracting at 2 minutes 17 seconds\n",
        "outpath = \"/content/drive/MyDrive/2nd sem/Adv Big Data & AI/downloaded_video/Video_2\"\n",
        "\n",
        "extracted_file = download_and_extract_video_segment(url, start_time, end_time, outpath)\n",
        "print(f\"Extracted video segment saved to {extracted_file}\")"
      ],
      "metadata": {
        "id": "JXc1M70BhYWb",
        "colab": {
          "base_uri": "https://localhost:8080/"
        },
        "outputId": "ba2654e5-e6ec-4189-8ed8-fb8898eccf2f"
      },
      "execution_count": null,
      "outputs": [
        {
          "output_type": "stream",
          "name": "stdout",
          "text": [
            "Downloading video to /content/drive/MyDrive/2nd sem/Adv Big Data & AI/downloaded_video/Video_2/temp_How To Think FAST and Talk SMART - Verbal Fluency.mp4\n",
            "Moviepy - Building video /content/drive/MyDrive/2nd sem/Adv Big Data & AI/downloaded_video/Video_2/segment_How To Think FAST and Talk SMART - Verbal Fluency.mp4.\n",
            "MoviePy - Writing audio in segment_How To Think FAST and Talk SMART - Verbal FluencyTEMP_MPY_wvf_snd.mp4\n"
          ]
        },
        {
          "output_type": "stream",
          "name": "stderr",
          "text": []
        },
        {
          "output_type": "stream",
          "name": "stdout",
          "text": [
            "MoviePy - Done.\n",
            "Moviepy - Writing video /content/drive/MyDrive/2nd sem/Adv Big Data & AI/downloaded_video/Video_2/segment_How To Think FAST and Talk SMART - Verbal Fluency.mp4\n",
            "\n"
          ]
        },
        {
          "output_type": "stream",
          "name": "stderr",
          "text": []
        },
        {
          "output_type": "stream",
          "name": "stdout",
          "text": [
            "Moviepy - Done !\n",
            "Moviepy - video ready /content/drive/MyDrive/2nd sem/Adv Big Data & AI/downloaded_video/Video_2/segment_How To Think FAST and Talk SMART - Verbal Fluency.mp4\n",
            "Removed the video successfully.\n",
            "Video segment extracted successfully.\n",
            "Extracted video segment saved to /content/drive/MyDrive/2nd sem/Adv Big Data & AI/downloaded_video/Video_2/segment_How To Think FAST and Talk SMART - Verbal Fluency.mp4\n"
          ]
        }
      ]
    },
    {
      "cell_type": "code",
      "source": [
        "segment_file = \"/content/drive/MyDrive/2nd sem/Adv Big Data & AI/downloaded_video/Video_2/segment_How To Think FAST and Talk SMART - Verbal Fluency.mp4\"\n",
        "outpath = \"/content/drive/MyDrive/2nd sem/Adv Big Data & AI/downloaded_video/Video_2\"\n",
        "filenames = divide_video_segment(segment_file, outpath)\n",
        "print(f\"Video segments saved to {filenames}\")"
      ],
      "metadata": {
        "colab": {
          "base_uri": "https://localhost:8080/"
        },
        "id": "gOtGa6SKkJNc",
        "outputId": "5628ca6e-4315-4413-d099-73bf279e6b5c"
      },
      "execution_count": null,
      "outputs": [
        {
          "output_type": "stream",
          "name": "stdout",
          "text": [
            "Moviepy - Building video /content/drive/MyDrive/2nd sem/Adv Big Data & AI/downloaded_video/Video_2/segment_1.mp4.\n",
            "MoviePy - Writing audio in segment_1TEMP_MPY_wvf_snd.mp4\n"
          ]
        },
        {
          "output_type": "stream",
          "name": "stderr",
          "text": []
        },
        {
          "output_type": "stream",
          "name": "stdout",
          "text": [
            "MoviePy - Done.\n",
            "Moviepy - Writing video /content/drive/MyDrive/2nd sem/Adv Big Data & AI/downloaded_video/Video_2/segment_1.mp4\n",
            "\n"
          ]
        },
        {
          "output_type": "stream",
          "name": "stderr",
          "text": []
        },
        {
          "output_type": "stream",
          "name": "stdout",
          "text": [
            "Moviepy - Done !\n",
            "Moviepy - video ready /content/drive/MyDrive/2nd sem/Adv Big Data & AI/downloaded_video/Video_2/segment_1.mp4\n",
            "Moviepy - Building video /content/drive/MyDrive/2nd sem/Adv Big Data & AI/downloaded_video/Video_2/segment_2.mp4.\n",
            "MoviePy - Writing audio in segment_2TEMP_MPY_wvf_snd.mp4\n"
          ]
        },
        {
          "output_type": "stream",
          "name": "stderr",
          "text": []
        },
        {
          "output_type": "stream",
          "name": "stdout",
          "text": [
            "MoviePy - Done.\n",
            "Moviepy - Writing video /content/drive/MyDrive/2nd sem/Adv Big Data & AI/downloaded_video/Video_2/segment_2.mp4\n",
            "\n"
          ]
        },
        {
          "output_type": "stream",
          "name": "stderr",
          "text": []
        },
        {
          "output_type": "stream",
          "name": "stdout",
          "text": [
            "Moviepy - Done !\n",
            "Moviepy - video ready /content/drive/MyDrive/2nd sem/Adv Big Data & AI/downloaded_video/Video_2/segment_2.mp4\n",
            "Moviepy - Building video /content/drive/MyDrive/2nd sem/Adv Big Data & AI/downloaded_video/Video_2/segment_3.mp4.\n",
            "MoviePy - Writing audio in segment_3TEMP_MPY_wvf_snd.mp4\n"
          ]
        },
        {
          "output_type": "stream",
          "name": "stderr",
          "text": []
        },
        {
          "output_type": "stream",
          "name": "stdout",
          "text": [
            "MoviePy - Done.\n",
            "Moviepy - Writing video /content/drive/MyDrive/2nd sem/Adv Big Data & AI/downloaded_video/Video_2/segment_3.mp4\n",
            "\n"
          ]
        },
        {
          "output_type": "stream",
          "name": "stderr",
          "text": []
        },
        {
          "output_type": "stream",
          "name": "stdout",
          "text": [
            "Moviepy - Done !\n",
            "Moviepy - video ready /content/drive/MyDrive/2nd sem/Adv Big Data & AI/downloaded_video/Video_2/segment_3.mp4\n",
            "Moviepy - Building video /content/drive/MyDrive/2nd sem/Adv Big Data & AI/downloaded_video/Video_2/segment_4.mp4.\n",
            "MoviePy - Writing audio in segment_4TEMP_MPY_wvf_snd.mp4\n"
          ]
        },
        {
          "output_type": "stream",
          "name": "stderr",
          "text": []
        },
        {
          "output_type": "stream",
          "name": "stdout",
          "text": [
            "MoviePy - Done.\n",
            "Moviepy - Writing video /content/drive/MyDrive/2nd sem/Adv Big Data & AI/downloaded_video/Video_2/segment_4.mp4\n",
            "\n"
          ]
        },
        {
          "output_type": "stream",
          "name": "stderr",
          "text": []
        },
        {
          "output_type": "stream",
          "name": "stdout",
          "text": [
            "Moviepy - Done !\n",
            "Moviepy - video ready /content/drive/MyDrive/2nd sem/Adv Big Data & AI/downloaded_video/Video_2/segment_4.mp4\n",
            "Moviepy - Building video /content/drive/MyDrive/2nd sem/Adv Big Data & AI/downloaded_video/Video_2/segment_5.mp4.\n",
            "MoviePy - Writing audio in segment_5TEMP_MPY_wvf_snd.mp4\n"
          ]
        },
        {
          "output_type": "stream",
          "name": "stderr",
          "text": []
        },
        {
          "output_type": "stream",
          "name": "stdout",
          "text": [
            "MoviePy - Done.\n",
            "Moviepy - Writing video /content/drive/MyDrive/2nd sem/Adv Big Data & AI/downloaded_video/Video_2/segment_5.mp4\n",
            "\n"
          ]
        },
        {
          "output_type": "stream",
          "name": "stderr",
          "text": []
        },
        {
          "output_type": "stream",
          "name": "stdout",
          "text": [
            "Moviepy - Done !\n",
            "Moviepy - video ready /content/drive/MyDrive/2nd sem/Adv Big Data & AI/downloaded_video/Video_2/segment_5.mp4\n",
            "Moviepy - Building video /content/drive/MyDrive/2nd sem/Adv Big Data & AI/downloaded_video/Video_2/segment_6.mp4.\n",
            "MoviePy - Writing audio in segment_6TEMP_MPY_wvf_snd.mp4\n"
          ]
        },
        {
          "output_type": "stream",
          "name": "stderr",
          "text": []
        },
        {
          "output_type": "stream",
          "name": "stdout",
          "text": [
            "MoviePy - Done.\n",
            "Moviepy - Writing video /content/drive/MyDrive/2nd sem/Adv Big Data & AI/downloaded_video/Video_2/segment_6.mp4\n",
            "\n"
          ]
        },
        {
          "output_type": "stream",
          "name": "stderr",
          "text": []
        },
        {
          "output_type": "stream",
          "name": "stdout",
          "text": [
            "Moviepy - Done !\n",
            "Moviepy - video ready /content/drive/MyDrive/2nd sem/Adv Big Data & AI/downloaded_video/Video_2/segment_6.mp4\n",
            "Moviepy - Building video /content/drive/MyDrive/2nd sem/Adv Big Data & AI/downloaded_video/Video_2/segment_7.mp4.\n",
            "MoviePy - Writing audio in segment_7TEMP_MPY_wvf_snd.mp4\n"
          ]
        },
        {
          "output_type": "stream",
          "name": "stderr",
          "text": []
        },
        {
          "output_type": "stream",
          "name": "stdout",
          "text": [
            "MoviePy - Done.\n",
            "Moviepy - Writing video /content/drive/MyDrive/2nd sem/Adv Big Data & AI/downloaded_video/Video_2/segment_7.mp4\n",
            "\n"
          ]
        },
        {
          "output_type": "stream",
          "name": "stderr",
          "text": []
        },
        {
          "output_type": "stream",
          "name": "stdout",
          "text": [
            "Moviepy - Done !\n",
            "Moviepy - video ready /content/drive/MyDrive/2nd sem/Adv Big Data & AI/downloaded_video/Video_2/segment_7.mp4\n",
            "Moviepy - Building video /content/drive/MyDrive/2nd sem/Adv Big Data & AI/downloaded_video/Video_2/segment_8.mp4.\n",
            "MoviePy - Writing audio in segment_8TEMP_MPY_wvf_snd.mp4\n"
          ]
        },
        {
          "output_type": "stream",
          "name": "stderr",
          "text": []
        },
        {
          "output_type": "stream",
          "name": "stdout",
          "text": [
            "MoviePy - Done.\n",
            "Moviepy - Writing video /content/drive/MyDrive/2nd sem/Adv Big Data & AI/downloaded_video/Video_2/segment_8.mp4\n",
            "\n"
          ]
        },
        {
          "output_type": "stream",
          "name": "stderr",
          "text": []
        },
        {
          "output_type": "stream",
          "name": "stdout",
          "text": [
            "Moviepy - Done !\n",
            "Moviepy - video ready /content/drive/MyDrive/2nd sem/Adv Big Data & AI/downloaded_video/Video_2/segment_8.mp4\n",
            "Video segment divided and saved successfully.\n",
            "Video segments saved to ['/content/drive/MyDrive/2nd sem/Adv Big Data & AI/downloaded_video/Video_2/segment_1.mp4', '/content/drive/MyDrive/2nd sem/Adv Big Data & AI/downloaded_video/Video_2/segment_2.mp4', '/content/drive/MyDrive/2nd sem/Adv Big Data & AI/downloaded_video/Video_2/segment_3.mp4', '/content/drive/MyDrive/2nd sem/Adv Big Data & AI/downloaded_video/Video_2/segment_4.mp4', '/content/drive/MyDrive/2nd sem/Adv Big Data & AI/downloaded_video/Video_2/segment_5.mp4', '/content/drive/MyDrive/2nd sem/Adv Big Data & AI/downloaded_video/Video_2/segment_6.mp4', '/content/drive/MyDrive/2nd sem/Adv Big Data & AI/downloaded_video/Video_2/segment_7.mp4', '/content/drive/MyDrive/2nd sem/Adv Big Data & AI/downloaded_video/Video_2/segment_8.mp4']\n"
          ]
        }
      ]
    },
    {
      "cell_type": "code",
      "source": [
        "###video 3\n",
        "url = \"https://www.youtube.com/watch?v=slivVd9hQlU&ab_channel=PublicSpeaking-LadyTinaLeder\" \n",
        "start_time = \"00:07:10\" # Start extracting from 1 minute 23 seconds\n",
        "end_time = \"00:08:30\" # End extracting at 2 minutes 17 seconds\n",
        "outpath = \"/content/drive/MyDrive/2nd sem/Adv Big Data & AI/downloaded_video/Video_3\"\n",
        "\n",
        "extracted_file = download_and_extract_video_segment(url, start_time, end_time, outpath)\n",
        "print(f\"Extracted video segment saved to {extracted_file}\")"
      ],
      "metadata": {
        "colab": {
          "base_uri": "https://localhost:8080/"
        },
        "id": "7_bN7fBlkqbX",
        "outputId": "dc810771-0ff7-4d0b-b138-9c2b76d5faa7"
      },
      "execution_count": null,
      "outputs": [
        {
          "output_type": "stream",
          "name": "stdout",
          "text": [
            "Downloading video to /content/drive/MyDrive/2nd sem/Adv Big Data & AI/downloaded_video/Video_3/temp_How To Think FAST and Talk SMART - Verbal Fluency.mp4\n",
            "Moviepy - Building video /content/drive/MyDrive/2nd sem/Adv Big Data & AI/downloaded_video/Video_3/segment_How To Think FAST and Talk SMART - Verbal Fluency.mp4.\n",
            "MoviePy - Writing audio in segment_How To Think FAST and Talk SMART - Verbal FluencyTEMP_MPY_wvf_snd.mp4\n"
          ]
        },
        {
          "output_type": "stream",
          "name": "stderr",
          "text": []
        },
        {
          "output_type": "stream",
          "name": "stdout",
          "text": [
            "MoviePy - Done.\n",
            "Moviepy - Writing video /content/drive/MyDrive/2nd sem/Adv Big Data & AI/downloaded_video/Video_3/segment_How To Think FAST and Talk SMART - Verbal Fluency.mp4\n",
            "\n"
          ]
        },
        {
          "output_type": "stream",
          "name": "stderr",
          "text": []
        },
        {
          "output_type": "stream",
          "name": "stdout",
          "text": [
            "Moviepy - Done !\n",
            "Moviepy - video ready /content/drive/MyDrive/2nd sem/Adv Big Data & AI/downloaded_video/Video_3/segment_How To Think FAST and Talk SMART - Verbal Fluency.mp4\n",
            "Removed the video successfully.\n",
            "Video segment extracted successfully.\n",
            "Extracted video segment saved to /content/drive/MyDrive/2nd sem/Adv Big Data & AI/downloaded_video/Video_3/segment_How To Think FAST and Talk SMART - Verbal Fluency.mp4\n"
          ]
        }
      ]
    },
    {
      "cell_type": "code",
      "source": [
        "segment_file = \"/content/drive/MyDrive/2nd sem/Adv Big Data & AI/downloaded_video/Video_3/segment_How To Think FAST and Talk SMART - Verbal Fluency.mp4\"\n",
        "outpath = \"/content/drive/MyDrive/2nd sem/Adv Big Data & AI/downloaded_video/Video_3\"\n",
        "filenames = divide_video_segment(segment_file, outpath)\n",
        "print(f\"Video segments saved to {filenames}\")"
      ],
      "metadata": {
        "colab": {
          "base_uri": "https://localhost:8080/"
        },
        "id": "0G-JEiE-lHLf",
        "outputId": "c01f31fe-62c0-4bf6-9ac3-f0fc2983e8f5"
      },
      "execution_count": null,
      "outputs": [
        {
          "output_type": "stream",
          "name": "stdout",
          "text": [
            "Moviepy - Building video /content/drive/MyDrive/2nd sem/Adv Big Data & AI/downloaded_video/Video_3/segment_1.mp4.\n",
            "MoviePy - Writing audio in segment_1TEMP_MPY_wvf_snd.mp4\n"
          ]
        },
        {
          "output_type": "stream",
          "name": "stderr",
          "text": []
        },
        {
          "output_type": "stream",
          "name": "stdout",
          "text": [
            "MoviePy - Done.\n",
            "Moviepy - Writing video /content/drive/MyDrive/2nd sem/Adv Big Data & AI/downloaded_video/Video_3/segment_1.mp4\n",
            "\n"
          ]
        },
        {
          "output_type": "stream",
          "name": "stderr",
          "text": []
        },
        {
          "output_type": "stream",
          "name": "stdout",
          "text": [
            "Moviepy - Done !\n",
            "Moviepy - video ready /content/drive/MyDrive/2nd sem/Adv Big Data & AI/downloaded_video/Video_3/segment_1.mp4\n",
            "Moviepy - Building video /content/drive/MyDrive/2nd sem/Adv Big Data & AI/downloaded_video/Video_3/segment_2.mp4.\n",
            "MoviePy - Writing audio in segment_2TEMP_MPY_wvf_snd.mp4\n"
          ]
        },
        {
          "output_type": "stream",
          "name": "stderr",
          "text": []
        },
        {
          "output_type": "stream",
          "name": "stdout",
          "text": [
            "MoviePy - Done.\n",
            "Moviepy - Writing video /content/drive/MyDrive/2nd sem/Adv Big Data & AI/downloaded_video/Video_3/segment_2.mp4\n",
            "\n"
          ]
        },
        {
          "output_type": "stream",
          "name": "stderr",
          "text": []
        },
        {
          "output_type": "stream",
          "name": "stdout",
          "text": [
            "Moviepy - Done !\n",
            "Moviepy - video ready /content/drive/MyDrive/2nd sem/Adv Big Data & AI/downloaded_video/Video_3/segment_2.mp4\n",
            "Moviepy - Building video /content/drive/MyDrive/2nd sem/Adv Big Data & AI/downloaded_video/Video_3/segment_3.mp4.\n",
            "MoviePy - Writing audio in segment_3TEMP_MPY_wvf_snd.mp4\n"
          ]
        },
        {
          "output_type": "stream",
          "name": "stderr",
          "text": []
        },
        {
          "output_type": "stream",
          "name": "stdout",
          "text": [
            "MoviePy - Done.\n",
            "Moviepy - Writing video /content/drive/MyDrive/2nd sem/Adv Big Data & AI/downloaded_video/Video_3/segment_3.mp4\n",
            "\n"
          ]
        },
        {
          "output_type": "stream",
          "name": "stderr",
          "text": []
        },
        {
          "output_type": "stream",
          "name": "stdout",
          "text": [
            "Moviepy - Done !\n",
            "Moviepy - video ready /content/drive/MyDrive/2nd sem/Adv Big Data & AI/downloaded_video/Video_3/segment_3.mp4\n",
            "Moviepy - Building video /content/drive/MyDrive/2nd sem/Adv Big Data & AI/downloaded_video/Video_3/segment_4.mp4.\n",
            "MoviePy - Writing audio in segment_4TEMP_MPY_wvf_snd.mp4\n"
          ]
        },
        {
          "output_type": "stream",
          "name": "stderr",
          "text": []
        },
        {
          "output_type": "stream",
          "name": "stdout",
          "text": [
            "MoviePy - Done.\n",
            "Moviepy - Writing video /content/drive/MyDrive/2nd sem/Adv Big Data & AI/downloaded_video/Video_3/segment_4.mp4\n",
            "\n"
          ]
        },
        {
          "output_type": "stream",
          "name": "stderr",
          "text": []
        },
        {
          "output_type": "stream",
          "name": "stdout",
          "text": [
            "Moviepy - Done !\n",
            "Moviepy - video ready /content/drive/MyDrive/2nd sem/Adv Big Data & AI/downloaded_video/Video_3/segment_4.mp4\n",
            "Moviepy - Building video /content/drive/MyDrive/2nd sem/Adv Big Data & AI/downloaded_video/Video_3/segment_5.mp4.\n",
            "MoviePy - Writing audio in segment_5TEMP_MPY_wvf_snd.mp4\n"
          ]
        },
        {
          "output_type": "stream",
          "name": "stderr",
          "text": []
        },
        {
          "output_type": "stream",
          "name": "stdout",
          "text": [
            "MoviePy - Done.\n",
            "Moviepy - Writing video /content/drive/MyDrive/2nd sem/Adv Big Data & AI/downloaded_video/Video_3/segment_5.mp4\n",
            "\n"
          ]
        },
        {
          "output_type": "stream",
          "name": "stderr",
          "text": []
        },
        {
          "output_type": "stream",
          "name": "stdout",
          "text": [
            "Moviepy - Done !\n",
            "Moviepy - video ready /content/drive/MyDrive/2nd sem/Adv Big Data & AI/downloaded_video/Video_3/segment_5.mp4\n",
            "Moviepy - Building video /content/drive/MyDrive/2nd sem/Adv Big Data & AI/downloaded_video/Video_3/segment_6.mp4.\n",
            "MoviePy - Writing audio in segment_6TEMP_MPY_wvf_snd.mp4\n"
          ]
        },
        {
          "output_type": "stream",
          "name": "stderr",
          "text": []
        },
        {
          "output_type": "stream",
          "name": "stdout",
          "text": [
            "MoviePy - Done.\n",
            "Moviepy - Writing video /content/drive/MyDrive/2nd sem/Adv Big Data & AI/downloaded_video/Video_3/segment_6.mp4\n",
            "\n"
          ]
        },
        {
          "output_type": "stream",
          "name": "stderr",
          "text": []
        },
        {
          "output_type": "stream",
          "name": "stdout",
          "text": [
            "Moviepy - Done !\n",
            "Moviepy - video ready /content/drive/MyDrive/2nd sem/Adv Big Data & AI/downloaded_video/Video_3/segment_6.mp4\n",
            "Moviepy - Building video /content/drive/MyDrive/2nd sem/Adv Big Data & AI/downloaded_video/Video_3/segment_7.mp4.\n",
            "MoviePy - Writing audio in segment_7TEMP_MPY_wvf_snd.mp4\n"
          ]
        },
        {
          "output_type": "stream",
          "name": "stderr",
          "text": []
        },
        {
          "output_type": "stream",
          "name": "stdout",
          "text": [
            "MoviePy - Done.\n",
            "Moviepy - Writing video /content/drive/MyDrive/2nd sem/Adv Big Data & AI/downloaded_video/Video_3/segment_7.mp4\n",
            "\n"
          ]
        },
        {
          "output_type": "stream",
          "name": "stderr",
          "text": []
        },
        {
          "output_type": "stream",
          "name": "stdout",
          "text": [
            "Moviepy - Done !\n",
            "Moviepy - video ready /content/drive/MyDrive/2nd sem/Adv Big Data & AI/downloaded_video/Video_3/segment_7.mp4\n",
            "Moviepy - Building video /content/drive/MyDrive/2nd sem/Adv Big Data & AI/downloaded_video/Video_3/segment_8.mp4.\n",
            "MoviePy - Writing audio in segment_8TEMP_MPY_wvf_snd.mp4\n"
          ]
        },
        {
          "output_type": "stream",
          "name": "stderr",
          "text": []
        },
        {
          "output_type": "stream",
          "name": "stdout",
          "text": [
            "MoviePy - Done.\n",
            "Moviepy - Writing video /content/drive/MyDrive/2nd sem/Adv Big Data & AI/downloaded_video/Video_3/segment_8.mp4\n",
            "\n"
          ]
        },
        {
          "output_type": "stream",
          "name": "stderr",
          "text": []
        },
        {
          "output_type": "stream",
          "name": "stdout",
          "text": [
            "Moviepy - Done !\n",
            "Moviepy - video ready /content/drive/MyDrive/2nd sem/Adv Big Data & AI/downloaded_video/Video_3/segment_8.mp4\n",
            "Video segment divided and saved successfully.\n",
            "Video segments saved to ['/content/drive/MyDrive/2nd sem/Adv Big Data & AI/downloaded_video/Video_3/segment_1.mp4', '/content/drive/MyDrive/2nd sem/Adv Big Data & AI/downloaded_video/Video_3/segment_2.mp4', '/content/drive/MyDrive/2nd sem/Adv Big Data & AI/downloaded_video/Video_3/segment_3.mp4', '/content/drive/MyDrive/2nd sem/Adv Big Data & AI/downloaded_video/Video_3/segment_4.mp4', '/content/drive/MyDrive/2nd sem/Adv Big Data & AI/downloaded_video/Video_3/segment_5.mp4', '/content/drive/MyDrive/2nd sem/Adv Big Data & AI/downloaded_video/Video_3/segment_6.mp4', '/content/drive/MyDrive/2nd sem/Adv Big Data & AI/downloaded_video/Video_3/segment_7.mp4', '/content/drive/MyDrive/2nd sem/Adv Big Data & AI/downloaded_video/Video_3/segment_8.mp4']\n"
          ]
        }
      ]
    },
    {
      "cell_type": "code",
      "source": [
        "###video 4\n",
        "url = \"https://www.youtube.com/shorts/d65SFy631BM\" \n",
        "start_time = \"00:00:00\" \n",
        "end_time = \"00:00:48\" \n",
        "outpath = \"/content/drive/MyDrive/2nd sem/Adv Big Data & AI/downloaded_video/Video_4\"\n",
        "\n",
        "extracted_file = download_and_extract_video_segment(url, start_time, end_time, outpath)\n",
        "print(f\"Extracted video segment saved to {extracted_file}\")"
      ],
      "metadata": {
        "colab": {
          "base_uri": "https://localhost:8080/"
        },
        "id": "-KcUtgVrlotq",
        "outputId": "afd1fe19-7dc3-41a9-834e-791b6afea904"
      },
      "execution_count": null,
      "outputs": [
        {
          "output_type": "stream",
          "name": "stdout",
          "text": [
            "Downloading video to /content/drive/MyDrive/2nd sem/Adv Big Data & AI/downloaded_video/Video_4/temp_How to Talk to Camera - Talk Your Script.mp4\n",
            "Moviepy - Building video /content/drive/MyDrive/2nd sem/Adv Big Data & AI/downloaded_video/Video_4/segment_How to Talk to Camera - Talk Your Script.mp4.\n",
            "MoviePy - Writing audio in segment_How to Talk to Camera - Talk Your ScriptTEMP_MPY_wvf_snd.mp4\n"
          ]
        },
        {
          "output_type": "stream",
          "name": "stderr",
          "text": []
        },
        {
          "output_type": "stream",
          "name": "stdout",
          "text": [
            "MoviePy - Done.\n",
            "Moviepy - Writing video /content/drive/MyDrive/2nd sem/Adv Big Data & AI/downloaded_video/Video_4/segment_How to Talk to Camera - Talk Your Script.mp4\n",
            "\n"
          ]
        },
        {
          "output_type": "stream",
          "name": "stderr",
          "text": []
        },
        {
          "output_type": "stream",
          "name": "stdout",
          "text": [
            "Moviepy - Done !\n",
            "Moviepy - video ready /content/drive/MyDrive/2nd sem/Adv Big Data & AI/downloaded_video/Video_4/segment_How to Talk to Camera - Talk Your Script.mp4\n",
            "Removed the video successfully.\n",
            "Video segment extracted successfully.\n",
            "Extracted video segment saved to /content/drive/MyDrive/2nd sem/Adv Big Data & AI/downloaded_video/Video_4/segment_How to Talk to Camera - Talk Your Script.mp4\n"
          ]
        }
      ]
    },
    {
      "cell_type": "code",
      "source": [
        "segment_file = \"/content/drive/MyDrive/2nd sem/Adv Big Data & AI/downloaded_video/Video_4/segment_How to Talk to Camera - Talk Your Script.mp4\"\n",
        "outpath = \"/content/drive/MyDrive/2nd sem/Adv Big Data & AI/downloaded_video/Video_4\"\n",
        "filenames = divide_video_segment(segment_file, outpath)\n",
        "print(f\"Video segments saved to {filenames}\")"
      ],
      "metadata": {
        "colab": {
          "base_uri": "https://localhost:8080/"
        },
        "id": "2DPY_UnBp27l",
        "outputId": "4fdbc679-096d-4e18-a1d0-3f131ed47f62"
      },
      "execution_count": null,
      "outputs": [
        {
          "output_type": "stream",
          "name": "stdout",
          "text": [
            "Moviepy - Building video /content/drive/MyDrive/2nd sem/Adv Big Data & AI/downloaded_video/Video_4/segment_1.mp4.\n",
            "MoviePy - Writing audio in segment_1TEMP_MPY_wvf_snd.mp4\n"
          ]
        },
        {
          "output_type": "stream",
          "name": "stderr",
          "text": []
        },
        {
          "output_type": "stream",
          "name": "stdout",
          "text": [
            "MoviePy - Done.\n",
            "Moviepy - Writing video /content/drive/MyDrive/2nd sem/Adv Big Data & AI/downloaded_video/Video_4/segment_1.mp4\n",
            "\n"
          ]
        },
        {
          "output_type": "stream",
          "name": "stderr",
          "text": []
        },
        {
          "output_type": "stream",
          "name": "stdout",
          "text": [
            "Moviepy - Done !\n",
            "Moviepy - video ready /content/drive/MyDrive/2nd sem/Adv Big Data & AI/downloaded_video/Video_4/segment_1.mp4\n",
            "Moviepy - Building video /content/drive/MyDrive/2nd sem/Adv Big Data & AI/downloaded_video/Video_4/segment_2.mp4.\n",
            "MoviePy - Writing audio in segment_2TEMP_MPY_wvf_snd.mp4\n"
          ]
        },
        {
          "output_type": "stream",
          "name": "stderr",
          "text": []
        },
        {
          "output_type": "stream",
          "name": "stdout",
          "text": [
            "MoviePy - Done.\n",
            "Moviepy - Writing video /content/drive/MyDrive/2nd sem/Adv Big Data & AI/downloaded_video/Video_4/segment_2.mp4\n",
            "\n"
          ]
        },
        {
          "output_type": "stream",
          "name": "stderr",
          "text": []
        },
        {
          "output_type": "stream",
          "name": "stdout",
          "text": [
            "Moviepy - Done !\n",
            "Moviepy - video ready /content/drive/MyDrive/2nd sem/Adv Big Data & AI/downloaded_video/Video_4/segment_2.mp4\n",
            "Moviepy - Building video /content/drive/MyDrive/2nd sem/Adv Big Data & AI/downloaded_video/Video_4/segment_3.mp4.\n",
            "MoviePy - Writing audio in segment_3TEMP_MPY_wvf_snd.mp4\n"
          ]
        },
        {
          "output_type": "stream",
          "name": "stderr",
          "text": []
        },
        {
          "output_type": "stream",
          "name": "stdout",
          "text": [
            "MoviePy - Done.\n",
            "Moviepy - Writing video /content/drive/MyDrive/2nd sem/Adv Big Data & AI/downloaded_video/Video_4/segment_3.mp4\n",
            "\n"
          ]
        },
        {
          "output_type": "stream",
          "name": "stderr",
          "text": []
        },
        {
          "output_type": "stream",
          "name": "stdout",
          "text": [
            "Moviepy - Done !\n",
            "Moviepy - video ready /content/drive/MyDrive/2nd sem/Adv Big Data & AI/downloaded_video/Video_4/segment_3.mp4\n",
            "Moviepy - Building video /content/drive/MyDrive/2nd sem/Adv Big Data & AI/downloaded_video/Video_4/segment_4.mp4.\n",
            "MoviePy - Writing audio in segment_4TEMP_MPY_wvf_snd.mp4\n"
          ]
        },
        {
          "output_type": "stream",
          "name": "stderr",
          "text": []
        },
        {
          "output_type": "stream",
          "name": "stdout",
          "text": [
            "MoviePy - Done.\n",
            "Moviepy - Writing video /content/drive/MyDrive/2nd sem/Adv Big Data & AI/downloaded_video/Video_4/segment_4.mp4\n",
            "\n"
          ]
        },
        {
          "output_type": "stream",
          "name": "stderr",
          "text": []
        },
        {
          "output_type": "stream",
          "name": "stdout",
          "text": [
            "Moviepy - Done !\n",
            "Moviepy - video ready /content/drive/MyDrive/2nd sem/Adv Big Data & AI/downloaded_video/Video_4/segment_4.mp4\n",
            "Moviepy - Building video /content/drive/MyDrive/2nd sem/Adv Big Data & AI/downloaded_video/Video_4/segment_5.mp4.\n",
            "MoviePy - Writing audio in segment_5TEMP_MPY_wvf_snd.mp4\n"
          ]
        },
        {
          "output_type": "stream",
          "name": "stderr",
          "text": []
        },
        {
          "output_type": "stream",
          "name": "stdout",
          "text": [
            "MoviePy - Done.\n",
            "Moviepy - Writing video /content/drive/MyDrive/2nd sem/Adv Big Data & AI/downloaded_video/Video_4/segment_5.mp4\n",
            "\n"
          ]
        },
        {
          "output_type": "stream",
          "name": "stderr",
          "text": [
            "t:  88%|████████▊ | 213/241 [00:00<00:00, 325.65it/s, now=None]WARNING:py.warnings:/usr/local/lib/python3.9/dist-packages/moviepy/video/io/ffmpeg_reader.py:123: UserWarning: Warning: in file /content/drive/MyDrive/2nd sem/Adv Big Data & AI/downloaded_video/Video_4/segment_How to Talk to Camera - Talk Your Script.mp4, 218160 bytes wanted but 0 bytes read,at frame 1440/1441, at time 48.00/48.02 sec. Using the last valid frame instead.\n",
            "  warnings.warn(\"Warning: in file %s, \"%(self.filename)+\n",
            "\n"
          ]
        },
        {
          "output_type": "stream",
          "name": "stdout",
          "text": [
            "Moviepy - Done !\n",
            "Moviepy - video ready /content/drive/MyDrive/2nd sem/Adv Big Data & AI/downloaded_video/Video_4/segment_5.mp4\n",
            "Video segment divided and saved successfully.\n",
            "Video segments saved to ['/content/drive/MyDrive/2nd sem/Adv Big Data & AI/downloaded_video/Video_4/segment_1.mp4', '/content/drive/MyDrive/2nd sem/Adv Big Data & AI/downloaded_video/Video_4/segment_2.mp4', '/content/drive/MyDrive/2nd sem/Adv Big Data & AI/downloaded_video/Video_4/segment_3.mp4', '/content/drive/MyDrive/2nd sem/Adv Big Data & AI/downloaded_video/Video_4/segment_4.mp4', '/content/drive/MyDrive/2nd sem/Adv Big Data & AI/downloaded_video/Video_4/segment_5.mp4']\n"
          ]
        }
      ]
    },
    {
      "cell_type": "code",
      "source": [
        "###video 5\n",
        "url = \"https://www.youtube.com/watch?v=1NYMVjmkLt4&ab_channel=HINDZ\" \n",
        "start_time = \"00:00:26\" \n",
        "end_time = \"00:05:10\" \n",
        "outpath = \"/content/drive/MyDrive/2nd sem/Adv Big Data & AI/downloaded_video/Video_5\"\n",
        "\n",
        "extracted_file = download_and_extract_video_segment(url, start_time, end_time, outpath)\n",
        "print(f\"Extracted video segment saved to {extracted_file}\")"
      ],
      "metadata": {
        "colab": {
          "base_uri": "https://localhost:8080/"
        },
        "id": "krV_SgmSqYm-",
        "outputId": "d793f2aa-3524-4427-88f8-24300f76dd3a"
      },
      "execution_count": null,
      "outputs": [
        {
          "output_type": "stream",
          "name": "stdout",
          "text": [
            "Downloading video to /content/drive/MyDrive/2nd sem/Adv Big Data & AI/downloaded_video/Video_5/temp_How to feel calm & comfortable speaking on camera.mp4\n",
            "Moviepy - Building video /content/drive/MyDrive/2nd sem/Adv Big Data & AI/downloaded_video/Video_5/segment_How to feel calm & comfortable speaking on camera.mp4.\n",
            "MoviePy - Writing audio in segment_How to feel calm & comfortable speaking on cameraTEMP_MPY_wvf_snd.mp4\n"
          ]
        },
        {
          "output_type": "stream",
          "name": "stderr",
          "text": []
        },
        {
          "output_type": "stream",
          "name": "stdout",
          "text": [
            "MoviePy - Done.\n",
            "Moviepy - Writing video /content/drive/MyDrive/2nd sem/Adv Big Data & AI/downloaded_video/Video_5/segment_How to feel calm & comfortable speaking on camera.mp4\n",
            "\n"
          ]
        },
        {
          "output_type": "stream",
          "name": "stderr",
          "text": []
        },
        {
          "output_type": "stream",
          "name": "stdout",
          "text": [
            "Moviepy - Done !\n",
            "Moviepy - video ready /content/drive/MyDrive/2nd sem/Adv Big Data & AI/downloaded_video/Video_5/segment_How to feel calm & comfortable speaking on camera.mp4\n",
            "Removed the video successfully.\n",
            "Video segment extracted successfully.\n",
            "Extracted video segment saved to /content/drive/MyDrive/2nd sem/Adv Big Data & AI/downloaded_video/Video_5/segment_How to feel calm & comfortable speaking on camera.mp4\n"
          ]
        }
      ]
    },
    {
      "cell_type": "code",
      "source": [
        "segment_file = \"/content/drive/MyDrive/2nd sem/Adv Big Data & AI/downloaded_video/Video_5/segment_How to feel calm & comfortable speaking on camera.mp4\"\n",
        "outpath = \"/content/drive/MyDrive/2nd sem/Adv Big Data & AI/downloaded_video/Video_5\"\n",
        "filenames = divide_video_segment(segment_file, outpath)\n",
        "print(f\"Video segments saved to {filenames}\")"
      ],
      "metadata": {
        "colab": {
          "base_uri": "https://localhost:8080/"
        },
        "id": "NCY0Acl5tC5E",
        "outputId": "d045cf55-4e54-4a80-ec40-4fac2b60b3ce"
      },
      "execution_count": null,
      "outputs": [
        {
          "output_type": "stream",
          "name": "stdout",
          "text": [
            "Moviepy - Building video /content/drive/MyDrive/2nd sem/Adv Big Data & AI/downloaded_video/Video_5/segment_1.mp4.\n",
            "MoviePy - Writing audio in segment_1TEMP_MPY_wvf_snd.mp4\n"
          ]
        },
        {
          "output_type": "stream",
          "name": "stderr",
          "text": []
        },
        {
          "output_type": "stream",
          "name": "stdout",
          "text": [
            "MoviePy - Done.\n",
            "Moviepy - Writing video /content/drive/MyDrive/2nd sem/Adv Big Data & AI/downloaded_video/Video_5/segment_1.mp4\n",
            "\n"
          ]
        },
        {
          "output_type": "stream",
          "name": "stderr",
          "text": []
        },
        {
          "output_type": "stream",
          "name": "stdout",
          "text": [
            "Moviepy - Done !\n",
            "Moviepy - video ready /content/drive/MyDrive/2nd sem/Adv Big Data & AI/downloaded_video/Video_5/segment_1.mp4\n",
            "Moviepy - Building video /content/drive/MyDrive/2nd sem/Adv Big Data & AI/downloaded_video/Video_5/segment_2.mp4.\n",
            "MoviePy - Writing audio in segment_2TEMP_MPY_wvf_snd.mp4\n"
          ]
        },
        {
          "output_type": "stream",
          "name": "stderr",
          "text": []
        },
        {
          "output_type": "stream",
          "name": "stdout",
          "text": [
            "MoviePy - Done.\n",
            "Moviepy - Writing video /content/drive/MyDrive/2nd sem/Adv Big Data & AI/downloaded_video/Video_5/segment_2.mp4\n",
            "\n"
          ]
        },
        {
          "output_type": "stream",
          "name": "stderr",
          "text": []
        },
        {
          "output_type": "stream",
          "name": "stdout",
          "text": [
            "Moviepy - Done !\n",
            "Moviepy - video ready /content/drive/MyDrive/2nd sem/Adv Big Data & AI/downloaded_video/Video_5/segment_2.mp4\n",
            "Moviepy - Building video /content/drive/MyDrive/2nd sem/Adv Big Data & AI/downloaded_video/Video_5/segment_3.mp4.\n",
            "MoviePy - Writing audio in segment_3TEMP_MPY_wvf_snd.mp4\n"
          ]
        },
        {
          "output_type": "stream",
          "name": "stderr",
          "text": []
        },
        {
          "output_type": "stream",
          "name": "stdout",
          "text": [
            "MoviePy - Done.\n",
            "Moviepy - Writing video /content/drive/MyDrive/2nd sem/Adv Big Data & AI/downloaded_video/Video_5/segment_3.mp4\n",
            "\n"
          ]
        },
        {
          "output_type": "stream",
          "name": "stderr",
          "text": []
        },
        {
          "output_type": "stream",
          "name": "stdout",
          "text": [
            "Moviepy - Done !\n",
            "Moviepy - video ready /content/drive/MyDrive/2nd sem/Adv Big Data & AI/downloaded_video/Video_5/segment_3.mp4\n",
            "Moviepy - Building video /content/drive/MyDrive/2nd sem/Adv Big Data & AI/downloaded_video/Video_5/segment_4.mp4.\n",
            "MoviePy - Writing audio in segment_4TEMP_MPY_wvf_snd.mp4\n"
          ]
        },
        {
          "output_type": "stream",
          "name": "stderr",
          "text": []
        },
        {
          "output_type": "stream",
          "name": "stdout",
          "text": [
            "MoviePy - Done.\n",
            "Moviepy - Writing video /content/drive/MyDrive/2nd sem/Adv Big Data & AI/downloaded_video/Video_5/segment_4.mp4\n",
            "\n"
          ]
        },
        {
          "output_type": "stream",
          "name": "stderr",
          "text": []
        },
        {
          "output_type": "stream",
          "name": "stdout",
          "text": [
            "Moviepy - Done !\n",
            "Moviepy - video ready /content/drive/MyDrive/2nd sem/Adv Big Data & AI/downloaded_video/Video_5/segment_4.mp4\n",
            "Moviepy - Building video /content/drive/MyDrive/2nd sem/Adv Big Data & AI/downloaded_video/Video_5/segment_5.mp4.\n",
            "MoviePy - Writing audio in segment_5TEMP_MPY_wvf_snd.mp4\n"
          ]
        },
        {
          "output_type": "stream",
          "name": "stderr",
          "text": []
        },
        {
          "output_type": "stream",
          "name": "stdout",
          "text": [
            "MoviePy - Done.\n",
            "Moviepy - Writing video /content/drive/MyDrive/2nd sem/Adv Big Data & AI/downloaded_video/Video_5/segment_5.mp4\n",
            "\n"
          ]
        },
        {
          "output_type": "stream",
          "name": "stderr",
          "text": []
        },
        {
          "output_type": "stream",
          "name": "stdout",
          "text": [
            "Moviepy - Done !\n",
            "Moviepy - video ready /content/drive/MyDrive/2nd sem/Adv Big Data & AI/downloaded_video/Video_5/segment_5.mp4\n",
            "Moviepy - Building video /content/drive/MyDrive/2nd sem/Adv Big Data & AI/downloaded_video/Video_5/segment_6.mp4.\n",
            "MoviePy - Writing audio in segment_6TEMP_MPY_wvf_snd.mp4\n"
          ]
        },
        {
          "output_type": "stream",
          "name": "stderr",
          "text": []
        },
        {
          "output_type": "stream",
          "name": "stdout",
          "text": [
            "MoviePy - Done.\n",
            "Moviepy - Writing video /content/drive/MyDrive/2nd sem/Adv Big Data & AI/downloaded_video/Video_5/segment_6.mp4\n",
            "\n"
          ]
        },
        {
          "output_type": "stream",
          "name": "stderr",
          "text": []
        },
        {
          "output_type": "stream",
          "name": "stdout",
          "text": [
            "Moviepy - Done !\n",
            "Moviepy - video ready /content/drive/MyDrive/2nd sem/Adv Big Data & AI/downloaded_video/Video_5/segment_6.mp4\n",
            "Moviepy - Building video /content/drive/MyDrive/2nd sem/Adv Big Data & AI/downloaded_video/Video_5/segment_7.mp4.\n",
            "MoviePy - Writing audio in segment_7TEMP_MPY_wvf_snd.mp4\n"
          ]
        },
        {
          "output_type": "stream",
          "name": "stderr",
          "text": []
        },
        {
          "output_type": "stream",
          "name": "stdout",
          "text": [
            "MoviePy - Done.\n",
            "Moviepy - Writing video /content/drive/MyDrive/2nd sem/Adv Big Data & AI/downloaded_video/Video_5/segment_7.mp4\n",
            "\n"
          ]
        },
        {
          "output_type": "stream",
          "name": "stderr",
          "text": []
        },
        {
          "output_type": "stream",
          "name": "stdout",
          "text": [
            "Moviepy - Done !\n",
            "Moviepy - video ready /content/drive/MyDrive/2nd sem/Adv Big Data & AI/downloaded_video/Video_5/segment_7.mp4\n",
            "Moviepy - Building video /content/drive/MyDrive/2nd sem/Adv Big Data & AI/downloaded_video/Video_5/segment_8.mp4.\n",
            "MoviePy - Writing audio in segment_8TEMP_MPY_wvf_snd.mp4\n"
          ]
        },
        {
          "output_type": "stream",
          "name": "stderr",
          "text": []
        },
        {
          "output_type": "stream",
          "name": "stdout",
          "text": [
            "MoviePy - Done.\n",
            "Moviepy - Writing video /content/drive/MyDrive/2nd sem/Adv Big Data & AI/downloaded_video/Video_5/segment_8.mp4\n",
            "\n"
          ]
        },
        {
          "output_type": "stream",
          "name": "stderr",
          "text": []
        },
        {
          "output_type": "stream",
          "name": "stdout",
          "text": [
            "Moviepy - Done !\n",
            "Moviepy - video ready /content/drive/MyDrive/2nd sem/Adv Big Data & AI/downloaded_video/Video_5/segment_8.mp4\n",
            "Moviepy - Building video /content/drive/MyDrive/2nd sem/Adv Big Data & AI/downloaded_video/Video_5/segment_9.mp4.\n",
            "MoviePy - Writing audio in segment_9TEMP_MPY_wvf_snd.mp4\n"
          ]
        },
        {
          "output_type": "stream",
          "name": "stderr",
          "text": []
        },
        {
          "output_type": "stream",
          "name": "stdout",
          "text": [
            "MoviePy - Done.\n",
            "Moviepy - Writing video /content/drive/MyDrive/2nd sem/Adv Big Data & AI/downloaded_video/Video_5/segment_9.mp4\n",
            "\n"
          ]
        },
        {
          "output_type": "stream",
          "name": "stderr",
          "text": []
        },
        {
          "output_type": "stream",
          "name": "stdout",
          "text": [
            "Moviepy - Done !\n",
            "Moviepy - video ready /content/drive/MyDrive/2nd sem/Adv Big Data & AI/downloaded_video/Video_5/segment_9.mp4\n",
            "Moviepy - Building video /content/drive/MyDrive/2nd sem/Adv Big Data & AI/downloaded_video/Video_5/segment_10.mp4.\n",
            "MoviePy - Writing audio in segment_10TEMP_MPY_wvf_snd.mp4\n"
          ]
        },
        {
          "output_type": "stream",
          "name": "stderr",
          "text": []
        },
        {
          "output_type": "stream",
          "name": "stdout",
          "text": [
            "MoviePy - Done.\n",
            "Moviepy - Writing video /content/drive/MyDrive/2nd sem/Adv Big Data & AI/downloaded_video/Video_5/segment_10.mp4\n",
            "\n"
          ]
        },
        {
          "output_type": "stream",
          "name": "stderr",
          "text": []
        },
        {
          "output_type": "stream",
          "name": "stdout",
          "text": [
            "Moviepy - Done !\n",
            "Moviepy - video ready /content/drive/MyDrive/2nd sem/Adv Big Data & AI/downloaded_video/Video_5/segment_10.mp4\n",
            "Moviepy - Building video /content/drive/MyDrive/2nd sem/Adv Big Data & AI/downloaded_video/Video_5/segment_11.mp4.\n",
            "MoviePy - Writing audio in segment_11TEMP_MPY_wvf_snd.mp4\n"
          ]
        },
        {
          "output_type": "stream",
          "name": "stderr",
          "text": []
        },
        {
          "output_type": "stream",
          "name": "stdout",
          "text": [
            "MoviePy - Done.\n",
            "Moviepy - Writing video /content/drive/MyDrive/2nd sem/Adv Big Data & AI/downloaded_video/Video_5/segment_11.mp4\n",
            "\n"
          ]
        },
        {
          "output_type": "stream",
          "name": "stderr",
          "text": []
        },
        {
          "output_type": "stream",
          "name": "stdout",
          "text": [
            "Moviepy - Done !\n",
            "Moviepy - video ready /content/drive/MyDrive/2nd sem/Adv Big Data & AI/downloaded_video/Video_5/segment_11.mp4\n",
            "Moviepy - Building video /content/drive/MyDrive/2nd sem/Adv Big Data & AI/downloaded_video/Video_5/segment_12.mp4.\n",
            "MoviePy - Writing audio in segment_12TEMP_MPY_wvf_snd.mp4\n"
          ]
        },
        {
          "output_type": "stream",
          "name": "stderr",
          "text": []
        },
        {
          "output_type": "stream",
          "name": "stdout",
          "text": [
            "MoviePy - Done.\n",
            "Moviepy - Writing video /content/drive/MyDrive/2nd sem/Adv Big Data & AI/downloaded_video/Video_5/segment_12.mp4\n",
            "\n"
          ]
        },
        {
          "output_type": "stream",
          "name": "stderr",
          "text": []
        },
        {
          "output_type": "stream",
          "name": "stdout",
          "text": [
            "Moviepy - Done !\n",
            "Moviepy - video ready /content/drive/MyDrive/2nd sem/Adv Big Data & AI/downloaded_video/Video_5/segment_12.mp4\n",
            "Moviepy - Building video /content/drive/MyDrive/2nd sem/Adv Big Data & AI/downloaded_video/Video_5/segment_13.mp4.\n",
            "MoviePy - Writing audio in segment_13TEMP_MPY_wvf_snd.mp4\n"
          ]
        },
        {
          "output_type": "stream",
          "name": "stderr",
          "text": []
        },
        {
          "output_type": "stream",
          "name": "stdout",
          "text": [
            "MoviePy - Done.\n",
            "Moviepy - Writing video /content/drive/MyDrive/2nd sem/Adv Big Data & AI/downloaded_video/Video_5/segment_13.mp4\n",
            "\n"
          ]
        },
        {
          "output_type": "stream",
          "name": "stderr",
          "text": []
        },
        {
          "output_type": "stream",
          "name": "stdout",
          "text": [
            "Moviepy - Done !\n",
            "Moviepy - video ready /content/drive/MyDrive/2nd sem/Adv Big Data & AI/downloaded_video/Video_5/segment_13.mp4\n",
            "Moviepy - Building video /content/drive/MyDrive/2nd sem/Adv Big Data & AI/downloaded_video/Video_5/segment_14.mp4.\n",
            "MoviePy - Writing audio in segment_14TEMP_MPY_wvf_snd.mp4\n"
          ]
        },
        {
          "output_type": "stream",
          "name": "stderr",
          "text": []
        },
        {
          "output_type": "stream",
          "name": "stdout",
          "text": [
            "MoviePy - Done.\n",
            "Moviepy - Writing video /content/drive/MyDrive/2nd sem/Adv Big Data & AI/downloaded_video/Video_5/segment_14.mp4\n",
            "\n"
          ]
        },
        {
          "output_type": "stream",
          "name": "stderr",
          "text": []
        },
        {
          "output_type": "stream",
          "name": "stdout",
          "text": [
            "Moviepy - Done !\n",
            "Moviepy - video ready /content/drive/MyDrive/2nd sem/Adv Big Data & AI/downloaded_video/Video_5/segment_14.mp4\n",
            "Moviepy - Building video /content/drive/MyDrive/2nd sem/Adv Big Data & AI/downloaded_video/Video_5/segment_15.mp4.\n",
            "MoviePy - Writing audio in segment_15TEMP_MPY_wvf_snd.mp4\n"
          ]
        },
        {
          "output_type": "stream",
          "name": "stderr",
          "text": []
        },
        {
          "output_type": "stream",
          "name": "stdout",
          "text": [
            "MoviePy - Done.\n",
            "Moviepy - Writing video /content/drive/MyDrive/2nd sem/Adv Big Data & AI/downloaded_video/Video_5/segment_15.mp4\n",
            "\n"
          ]
        },
        {
          "output_type": "stream",
          "name": "stderr",
          "text": []
        },
        {
          "output_type": "stream",
          "name": "stdout",
          "text": [
            "Moviepy - Done !\n",
            "Moviepy - video ready /content/drive/MyDrive/2nd sem/Adv Big Data & AI/downloaded_video/Video_5/segment_15.mp4\n",
            "Moviepy - Building video /content/drive/MyDrive/2nd sem/Adv Big Data & AI/downloaded_video/Video_5/segment_16.mp4.\n",
            "MoviePy - Writing audio in segment_16TEMP_MPY_wvf_snd.mp4\n"
          ]
        },
        {
          "output_type": "stream",
          "name": "stderr",
          "text": []
        },
        {
          "output_type": "stream",
          "name": "stdout",
          "text": [
            "MoviePy - Done.\n",
            "Moviepy - Writing video /content/drive/MyDrive/2nd sem/Adv Big Data & AI/downloaded_video/Video_5/segment_16.mp4\n",
            "\n"
          ]
        },
        {
          "output_type": "stream",
          "name": "stderr",
          "text": []
        },
        {
          "output_type": "stream",
          "name": "stdout",
          "text": [
            "Moviepy - Done !\n",
            "Moviepy - video ready /content/drive/MyDrive/2nd sem/Adv Big Data & AI/downloaded_video/Video_5/segment_16.mp4\n",
            "Moviepy - Building video /content/drive/MyDrive/2nd sem/Adv Big Data & AI/downloaded_video/Video_5/segment_17.mp4.\n",
            "MoviePy - Writing audio in segment_17TEMP_MPY_wvf_snd.mp4\n"
          ]
        },
        {
          "output_type": "stream",
          "name": "stderr",
          "text": []
        },
        {
          "output_type": "stream",
          "name": "stdout",
          "text": [
            "MoviePy - Done.\n",
            "Moviepy - Writing video /content/drive/MyDrive/2nd sem/Adv Big Data & AI/downloaded_video/Video_5/segment_17.mp4\n",
            "\n"
          ]
        },
        {
          "output_type": "stream",
          "name": "stderr",
          "text": []
        },
        {
          "output_type": "stream",
          "name": "stdout",
          "text": [
            "Moviepy - Done !\n",
            "Moviepy - video ready /content/drive/MyDrive/2nd sem/Adv Big Data & AI/downloaded_video/Video_5/segment_17.mp4\n",
            "Moviepy - Building video /content/drive/MyDrive/2nd sem/Adv Big Data & AI/downloaded_video/Video_5/segment_18.mp4.\n",
            "MoviePy - Writing audio in segment_18TEMP_MPY_wvf_snd.mp4\n"
          ]
        },
        {
          "output_type": "stream",
          "name": "stderr",
          "text": []
        },
        {
          "output_type": "stream",
          "name": "stdout",
          "text": [
            "MoviePy - Done.\n",
            "Moviepy - Writing video /content/drive/MyDrive/2nd sem/Adv Big Data & AI/downloaded_video/Video_5/segment_18.mp4\n",
            "\n"
          ]
        },
        {
          "output_type": "stream",
          "name": "stderr",
          "text": []
        },
        {
          "output_type": "stream",
          "name": "stdout",
          "text": [
            "Moviepy - Done !\n",
            "Moviepy - video ready /content/drive/MyDrive/2nd sem/Adv Big Data & AI/downloaded_video/Video_5/segment_18.mp4\n",
            "Moviepy - Building video /content/drive/MyDrive/2nd sem/Adv Big Data & AI/downloaded_video/Video_5/segment_19.mp4.\n",
            "MoviePy - Writing audio in segment_19TEMP_MPY_wvf_snd.mp4\n"
          ]
        },
        {
          "output_type": "stream",
          "name": "stderr",
          "text": []
        },
        {
          "output_type": "stream",
          "name": "stdout",
          "text": [
            "MoviePy - Done.\n",
            "Moviepy - Writing video /content/drive/MyDrive/2nd sem/Adv Big Data & AI/downloaded_video/Video_5/segment_19.mp4\n",
            "\n"
          ]
        },
        {
          "output_type": "stream",
          "name": "stderr",
          "text": []
        },
        {
          "output_type": "stream",
          "name": "stdout",
          "text": [
            "Moviepy - Done !\n",
            "Moviepy - video ready /content/drive/MyDrive/2nd sem/Adv Big Data & AI/downloaded_video/Video_5/segment_19.mp4\n",
            "Moviepy - Building video /content/drive/MyDrive/2nd sem/Adv Big Data & AI/downloaded_video/Video_5/segment_20.mp4.\n",
            "MoviePy - Writing audio in segment_20TEMP_MPY_wvf_snd.mp4\n"
          ]
        },
        {
          "output_type": "stream",
          "name": "stderr",
          "text": []
        },
        {
          "output_type": "stream",
          "name": "stdout",
          "text": [
            "MoviePy - Done.\n",
            "Moviepy - Writing video /content/drive/MyDrive/2nd sem/Adv Big Data & AI/downloaded_video/Video_5/segment_20.mp4\n",
            "\n"
          ]
        },
        {
          "output_type": "stream",
          "name": "stderr",
          "text": []
        },
        {
          "output_type": "stream",
          "name": "stdout",
          "text": [
            "Moviepy - Done !\n",
            "Moviepy - video ready /content/drive/MyDrive/2nd sem/Adv Big Data & AI/downloaded_video/Video_5/segment_20.mp4\n",
            "Moviepy - Building video /content/drive/MyDrive/2nd sem/Adv Big Data & AI/downloaded_video/Video_5/segment_21.mp4.\n",
            "MoviePy - Writing audio in segment_21TEMP_MPY_wvf_snd.mp4\n"
          ]
        },
        {
          "output_type": "stream",
          "name": "stderr",
          "text": []
        },
        {
          "output_type": "stream",
          "name": "stdout",
          "text": [
            "MoviePy - Done.\n",
            "Moviepy - Writing video /content/drive/MyDrive/2nd sem/Adv Big Data & AI/downloaded_video/Video_5/segment_21.mp4\n",
            "\n"
          ]
        },
        {
          "output_type": "stream",
          "name": "stderr",
          "text": []
        },
        {
          "output_type": "stream",
          "name": "stdout",
          "text": [
            "Moviepy - Done !\n",
            "Moviepy - video ready /content/drive/MyDrive/2nd sem/Adv Big Data & AI/downloaded_video/Video_5/segment_21.mp4\n",
            "Moviepy - Building video /content/drive/MyDrive/2nd sem/Adv Big Data & AI/downloaded_video/Video_5/segment_22.mp4.\n",
            "MoviePy - Writing audio in segment_22TEMP_MPY_wvf_snd.mp4\n"
          ]
        },
        {
          "output_type": "stream",
          "name": "stderr",
          "text": []
        },
        {
          "output_type": "stream",
          "name": "stdout",
          "text": [
            "MoviePy - Done.\n",
            "Moviepy - Writing video /content/drive/MyDrive/2nd sem/Adv Big Data & AI/downloaded_video/Video_5/segment_22.mp4\n",
            "\n"
          ]
        },
        {
          "output_type": "stream",
          "name": "stderr",
          "text": []
        },
        {
          "output_type": "stream",
          "name": "stdout",
          "text": [
            "Moviepy - Done !\n",
            "Moviepy - video ready /content/drive/MyDrive/2nd sem/Adv Big Data & AI/downloaded_video/Video_5/segment_22.mp4\n",
            "Moviepy - Building video /content/drive/MyDrive/2nd sem/Adv Big Data & AI/downloaded_video/Video_5/segment_23.mp4.\n",
            "MoviePy - Writing audio in segment_23TEMP_MPY_wvf_snd.mp4\n"
          ]
        },
        {
          "output_type": "stream",
          "name": "stderr",
          "text": []
        },
        {
          "output_type": "stream",
          "name": "stdout",
          "text": [
            "MoviePy - Done.\n",
            "Moviepy - Writing video /content/drive/MyDrive/2nd sem/Adv Big Data & AI/downloaded_video/Video_5/segment_23.mp4\n",
            "\n"
          ]
        },
        {
          "output_type": "stream",
          "name": "stderr",
          "text": []
        },
        {
          "output_type": "stream",
          "name": "stdout",
          "text": [
            "Moviepy - Done !\n",
            "Moviepy - video ready /content/drive/MyDrive/2nd sem/Adv Big Data & AI/downloaded_video/Video_5/segment_23.mp4\n",
            "Moviepy - Building video /content/drive/MyDrive/2nd sem/Adv Big Data & AI/downloaded_video/Video_5/segment_24.mp4.\n",
            "MoviePy - Writing audio in segment_24TEMP_MPY_wvf_snd.mp4\n"
          ]
        },
        {
          "output_type": "stream",
          "name": "stderr",
          "text": []
        },
        {
          "output_type": "stream",
          "name": "stdout",
          "text": [
            "MoviePy - Done.\n",
            "Moviepy - Writing video /content/drive/MyDrive/2nd sem/Adv Big Data & AI/downloaded_video/Video_5/segment_24.mp4\n",
            "\n"
          ]
        },
        {
          "output_type": "stream",
          "name": "stderr",
          "text": []
        },
        {
          "output_type": "stream",
          "name": "stdout",
          "text": [
            "Moviepy - Done !\n",
            "Moviepy - video ready /content/drive/MyDrive/2nd sem/Adv Big Data & AI/downloaded_video/Video_5/segment_24.mp4\n",
            "Moviepy - Building video /content/drive/MyDrive/2nd sem/Adv Big Data & AI/downloaded_video/Video_5/segment_25.mp4.\n",
            "MoviePy - Writing audio in segment_25TEMP_MPY_wvf_snd.mp4\n"
          ]
        },
        {
          "output_type": "stream",
          "name": "stderr",
          "text": []
        },
        {
          "output_type": "stream",
          "name": "stdout",
          "text": [
            "MoviePy - Done.\n",
            "Moviepy - Writing video /content/drive/MyDrive/2nd sem/Adv Big Data & AI/downloaded_video/Video_5/segment_25.mp4\n",
            "\n"
          ]
        },
        {
          "output_type": "stream",
          "name": "stderr",
          "text": []
        },
        {
          "output_type": "stream",
          "name": "stdout",
          "text": [
            "Moviepy - Done !\n",
            "Moviepy - video ready /content/drive/MyDrive/2nd sem/Adv Big Data & AI/downloaded_video/Video_5/segment_25.mp4\n",
            "Moviepy - Building video /content/drive/MyDrive/2nd sem/Adv Big Data & AI/downloaded_video/Video_5/segment_26.mp4.\n",
            "MoviePy - Writing audio in segment_26TEMP_MPY_wvf_snd.mp4\n"
          ]
        },
        {
          "output_type": "stream",
          "name": "stderr",
          "text": []
        },
        {
          "output_type": "stream",
          "name": "stdout",
          "text": [
            "MoviePy - Done.\n",
            "Moviepy - Writing video /content/drive/MyDrive/2nd sem/Adv Big Data & AI/downloaded_video/Video_5/segment_26.mp4\n",
            "\n"
          ]
        },
        {
          "output_type": "stream",
          "name": "stderr",
          "text": []
        },
        {
          "output_type": "stream",
          "name": "stdout",
          "text": [
            "Moviepy - Done !\n",
            "Moviepy - video ready /content/drive/MyDrive/2nd sem/Adv Big Data & AI/downloaded_video/Video_5/segment_26.mp4\n",
            "Moviepy - Building video /content/drive/MyDrive/2nd sem/Adv Big Data & AI/downloaded_video/Video_5/segment_27.mp4.\n",
            "MoviePy - Writing audio in segment_27TEMP_MPY_wvf_snd.mp4\n"
          ]
        },
        {
          "output_type": "stream",
          "name": "stderr",
          "text": []
        },
        {
          "output_type": "stream",
          "name": "stdout",
          "text": [
            "MoviePy - Done.\n",
            "Moviepy - Writing video /content/drive/MyDrive/2nd sem/Adv Big Data & AI/downloaded_video/Video_5/segment_27.mp4\n",
            "\n"
          ]
        },
        {
          "output_type": "stream",
          "name": "stderr",
          "text": []
        },
        {
          "output_type": "stream",
          "name": "stdout",
          "text": [
            "Moviepy - Done !\n",
            "Moviepy - video ready /content/drive/MyDrive/2nd sem/Adv Big Data & AI/downloaded_video/Video_5/segment_27.mp4\n",
            "Moviepy - Building video /content/drive/MyDrive/2nd sem/Adv Big Data & AI/downloaded_video/Video_5/segment_28.mp4.\n",
            "MoviePy - Writing audio in segment_28TEMP_MPY_wvf_snd.mp4\n"
          ]
        },
        {
          "output_type": "stream",
          "name": "stderr",
          "text": []
        },
        {
          "output_type": "stream",
          "name": "stdout",
          "text": [
            "MoviePy - Done.\n",
            "Moviepy - Writing video /content/drive/MyDrive/2nd sem/Adv Big Data & AI/downloaded_video/Video_5/segment_28.mp4\n",
            "\n"
          ]
        },
        {
          "output_type": "stream",
          "name": "stderr",
          "text": []
        },
        {
          "output_type": "stream",
          "name": "stdout",
          "text": [
            "Moviepy - Done !\n",
            "Moviepy - video ready /content/drive/MyDrive/2nd sem/Adv Big Data & AI/downloaded_video/Video_5/segment_28.mp4\n",
            "Moviepy - Building video /content/drive/MyDrive/2nd sem/Adv Big Data & AI/downloaded_video/Video_5/segment_29.mp4.\n",
            "MoviePy - Writing audio in segment_29TEMP_MPY_wvf_snd.mp4\n"
          ]
        },
        {
          "output_type": "stream",
          "name": "stderr",
          "text": []
        },
        {
          "output_type": "stream",
          "name": "stdout",
          "text": [
            "MoviePy - Done.\n",
            "Moviepy - Writing video /content/drive/MyDrive/2nd sem/Adv Big Data & AI/downloaded_video/Video_5/segment_29.mp4\n",
            "\n"
          ]
        },
        {
          "output_type": "stream",
          "name": "stderr",
          "text": [
            "t:  52%|█████▏    | 50/97 [00:00<00:00, 494.59it/s, now=None]WARNING:py.warnings:/usr/local/lib/python3.9/dist-packages/moviepy/video/io/ffmpeg_reader.py:123: UserWarning: Warning: in file /content/drive/MyDrive/2nd sem/Adv Big Data & AI/downloaded_video/Video_5/segment_How to feel calm & comfortable speaking on camera.mp4, 691200 bytes wanted but 0 bytes read,at frame 6816/6817, at time 284.00/284.02 sec. Using the last valid frame instead.\n",
            "  warnings.warn(\"Warning: in file %s, \"%(self.filename)+\n",
            "\n"
          ]
        },
        {
          "output_type": "stream",
          "name": "stdout",
          "text": [
            "Moviepy - Done !\n",
            "Moviepy - video ready /content/drive/MyDrive/2nd sem/Adv Big Data & AI/downloaded_video/Video_5/segment_29.mp4\n",
            "Video segment divided and saved successfully.\n",
            "Video segments saved to ['/content/drive/MyDrive/2nd sem/Adv Big Data & AI/downloaded_video/Video_5/segment_1.mp4', '/content/drive/MyDrive/2nd sem/Adv Big Data & AI/downloaded_video/Video_5/segment_2.mp4', '/content/drive/MyDrive/2nd sem/Adv Big Data & AI/downloaded_video/Video_5/segment_3.mp4', '/content/drive/MyDrive/2nd sem/Adv Big Data & AI/downloaded_video/Video_5/segment_4.mp4', '/content/drive/MyDrive/2nd sem/Adv Big Data & AI/downloaded_video/Video_5/segment_5.mp4', '/content/drive/MyDrive/2nd sem/Adv Big Data & AI/downloaded_video/Video_5/segment_6.mp4', '/content/drive/MyDrive/2nd sem/Adv Big Data & AI/downloaded_video/Video_5/segment_7.mp4', '/content/drive/MyDrive/2nd sem/Adv Big Data & AI/downloaded_video/Video_5/segment_8.mp4', '/content/drive/MyDrive/2nd sem/Adv Big Data & AI/downloaded_video/Video_5/segment_9.mp4', '/content/drive/MyDrive/2nd sem/Adv Big Data & AI/downloaded_video/Video_5/segment_10.mp4', '/content/drive/MyDrive/2nd sem/Adv Big Data & AI/downloaded_video/Video_5/segment_11.mp4', '/content/drive/MyDrive/2nd sem/Adv Big Data & AI/downloaded_video/Video_5/segment_12.mp4', '/content/drive/MyDrive/2nd sem/Adv Big Data & AI/downloaded_video/Video_5/segment_13.mp4', '/content/drive/MyDrive/2nd sem/Adv Big Data & AI/downloaded_video/Video_5/segment_14.mp4', '/content/drive/MyDrive/2nd sem/Adv Big Data & AI/downloaded_video/Video_5/segment_15.mp4', '/content/drive/MyDrive/2nd sem/Adv Big Data & AI/downloaded_video/Video_5/segment_16.mp4', '/content/drive/MyDrive/2nd sem/Adv Big Data & AI/downloaded_video/Video_5/segment_17.mp4', '/content/drive/MyDrive/2nd sem/Adv Big Data & AI/downloaded_video/Video_5/segment_18.mp4', '/content/drive/MyDrive/2nd sem/Adv Big Data & AI/downloaded_video/Video_5/segment_19.mp4', '/content/drive/MyDrive/2nd sem/Adv Big Data & AI/downloaded_video/Video_5/segment_20.mp4', '/content/drive/MyDrive/2nd sem/Adv Big Data & AI/downloaded_video/Video_5/segment_21.mp4', '/content/drive/MyDrive/2nd sem/Adv Big Data & AI/downloaded_video/Video_5/segment_22.mp4', '/content/drive/MyDrive/2nd sem/Adv Big Data & AI/downloaded_video/Video_5/segment_23.mp4', '/content/drive/MyDrive/2nd sem/Adv Big Data & AI/downloaded_video/Video_5/segment_24.mp4', '/content/drive/MyDrive/2nd sem/Adv Big Data & AI/downloaded_video/Video_5/segment_25.mp4', '/content/drive/MyDrive/2nd sem/Adv Big Data & AI/downloaded_video/Video_5/segment_26.mp4', '/content/drive/MyDrive/2nd sem/Adv Big Data & AI/downloaded_video/Video_5/segment_27.mp4', '/content/drive/MyDrive/2nd sem/Adv Big Data & AI/downloaded_video/Video_5/segment_28.mp4', '/content/drive/MyDrive/2nd sem/Adv Big Data & AI/downloaded_video/Video_5/segment_29.mp4']\n"
          ]
        }
      ]
    },
    {
      "cell_type": "code",
      "source": [
        "###video 6\n",
        "url = \"https://www.youtube.com/watch?v=EW4dEzfBst0&ab_channel=AleenaRaisLive\" \n",
        "start_time = \"00:00:00\" \n",
        "end_time = \"00:08:55\" \n",
        "outpath = \"/content/drive/MyDrive/2nd sem/Adv Big Data & AI/downloaded_video/Video_6\"\n",
        "\n",
        "extracted_file = download_and_extract_video_segment(url, start_time, end_time, outpath)\n",
        "print(f\"Extracted video segment saved to {extracted_file}\")"
      ],
      "metadata": {
        "colab": {
          "base_uri": "https://localhost:8080/"
        },
        "id": "xidD6y9btgd-",
        "outputId": "bbc53735-e3fe-47a1-e1b4-71bc1a9f7dca"
      },
      "execution_count": null,
      "outputs": [
        {
          "output_type": "stream",
          "name": "stdout",
          "text": [
            "Downloading video to /content/drive/MyDrive/2nd sem/Adv Big Data & AI/downloaded_video/Video_6/temp_Follow these 14 Basic Rules to ensure you crack every interview.mp4\n",
            "Moviepy - Building video /content/drive/MyDrive/2nd sem/Adv Big Data & AI/downloaded_video/Video_6/segment_Follow these 14 Basic Rules to ensure you crack every interview.mp4.\n",
            "MoviePy - Writing audio in segment_Follow these 14 Basic Rules to ensure you crack every interviewTEMP_MPY_wvf_snd.mp4\n"
          ]
        },
        {
          "output_type": "stream",
          "name": "stderr",
          "text": []
        },
        {
          "output_type": "stream",
          "name": "stdout",
          "text": [
            "MoviePy - Done.\n",
            "Moviepy - Writing video /content/drive/MyDrive/2nd sem/Adv Big Data & AI/downloaded_video/Video_6/segment_Follow these 14 Basic Rules to ensure you crack every interview.mp4\n",
            "\n"
          ]
        },
        {
          "output_type": "stream",
          "name": "stderr",
          "text": []
        },
        {
          "output_type": "stream",
          "name": "stdout",
          "text": [
            "Moviepy - Done !\n",
            "Moviepy - video ready /content/drive/MyDrive/2nd sem/Adv Big Data & AI/downloaded_video/Video_6/segment_Follow these 14 Basic Rules to ensure you crack every interview.mp4\n",
            "Removed the video successfully.\n",
            "Video segment extracted successfully.\n",
            "Extracted video segment saved to /content/drive/MyDrive/2nd sem/Adv Big Data & AI/downloaded_video/Video_6/segment_Follow these 14 Basic Rules to ensure you crack every interview.mp4\n"
          ]
        }
      ]
    },
    {
      "cell_type": "code",
      "source": [
        "segment_file = \"/content/drive/MyDrive/2nd sem/Adv Big Data & AI/downloaded_video/Video_6/segment_Follow these 14 Basic Rules to ensure you crack every interview.mp4\"\n",
        "outpath = \"/content/drive/MyDrive/2nd sem/Adv Big Data & AI/downloaded_video/Video_6\"\n",
        "filenames = divide_video_segment(segment_file, outpath)\n",
        "print(f\"Video segments saved to {filenames}\")"
      ],
      "metadata": {
        "colab": {
          "base_uri": "https://localhost:8080/"
        },
        "id": "ec1J7dWwxLXr",
        "outputId": "f53e039e-174e-4b70-9e4c-fc5df6038df8"
      },
      "execution_count": null,
      "outputs": [
        {
          "output_type": "stream",
          "name": "stdout",
          "text": [
            "Moviepy - Building video /content/drive/MyDrive/2nd sem/Adv Big Data & AI/downloaded_video/Video_6/segment_1.mp4.\n",
            "MoviePy - Writing audio in segment_1TEMP_MPY_wvf_snd.mp4\n"
          ]
        },
        {
          "output_type": "stream",
          "name": "stderr",
          "text": []
        },
        {
          "output_type": "stream",
          "name": "stdout",
          "text": [
            "MoviePy - Done.\n",
            "Moviepy - Writing video /content/drive/MyDrive/2nd sem/Adv Big Data & AI/downloaded_video/Video_6/segment_1.mp4\n",
            "\n"
          ]
        },
        {
          "output_type": "stream",
          "name": "stderr",
          "text": []
        },
        {
          "output_type": "stream",
          "name": "stdout",
          "text": [
            "Moviepy - Done !\n",
            "Moviepy - video ready /content/drive/MyDrive/2nd sem/Adv Big Data & AI/downloaded_video/Video_6/segment_1.mp4\n",
            "Moviepy - Building video /content/drive/MyDrive/2nd sem/Adv Big Data & AI/downloaded_video/Video_6/segment_2.mp4.\n",
            "MoviePy - Writing audio in segment_2TEMP_MPY_wvf_snd.mp4\n"
          ]
        },
        {
          "output_type": "stream",
          "name": "stderr",
          "text": []
        },
        {
          "output_type": "stream",
          "name": "stdout",
          "text": [
            "MoviePy - Done.\n",
            "Moviepy - Writing video /content/drive/MyDrive/2nd sem/Adv Big Data & AI/downloaded_video/Video_6/segment_2.mp4\n",
            "\n"
          ]
        },
        {
          "output_type": "stream",
          "name": "stderr",
          "text": []
        },
        {
          "output_type": "stream",
          "name": "stdout",
          "text": [
            "Moviepy - Done !\n",
            "Moviepy - video ready /content/drive/MyDrive/2nd sem/Adv Big Data & AI/downloaded_video/Video_6/segment_2.mp4\n",
            "Moviepy - Building video /content/drive/MyDrive/2nd sem/Adv Big Data & AI/downloaded_video/Video_6/segment_3.mp4.\n",
            "MoviePy - Writing audio in segment_3TEMP_MPY_wvf_snd.mp4\n"
          ]
        },
        {
          "output_type": "stream",
          "name": "stderr",
          "text": []
        },
        {
          "output_type": "stream",
          "name": "stdout",
          "text": [
            "MoviePy - Done.\n",
            "Moviepy - Writing video /content/drive/MyDrive/2nd sem/Adv Big Data & AI/downloaded_video/Video_6/segment_3.mp4\n",
            "\n"
          ]
        },
        {
          "output_type": "stream",
          "name": "stderr",
          "text": []
        },
        {
          "output_type": "stream",
          "name": "stdout",
          "text": [
            "Moviepy - Done !\n",
            "Moviepy - video ready /content/drive/MyDrive/2nd sem/Adv Big Data & AI/downloaded_video/Video_6/segment_3.mp4\n",
            "Moviepy - Building video /content/drive/MyDrive/2nd sem/Adv Big Data & AI/downloaded_video/Video_6/segment_4.mp4.\n",
            "MoviePy - Writing audio in segment_4TEMP_MPY_wvf_snd.mp4\n"
          ]
        },
        {
          "output_type": "stream",
          "name": "stderr",
          "text": []
        },
        {
          "output_type": "stream",
          "name": "stdout",
          "text": [
            "MoviePy - Done.\n",
            "Moviepy - Writing video /content/drive/MyDrive/2nd sem/Adv Big Data & AI/downloaded_video/Video_6/segment_4.mp4\n",
            "\n"
          ]
        },
        {
          "output_type": "stream",
          "name": "stderr",
          "text": []
        },
        {
          "output_type": "stream",
          "name": "stdout",
          "text": [
            "Moviepy - Done !\n",
            "Moviepy - video ready /content/drive/MyDrive/2nd sem/Adv Big Data & AI/downloaded_video/Video_6/segment_4.mp4\n",
            "Moviepy - Building video /content/drive/MyDrive/2nd sem/Adv Big Data & AI/downloaded_video/Video_6/segment_5.mp4.\n",
            "MoviePy - Writing audio in segment_5TEMP_MPY_wvf_snd.mp4\n"
          ]
        },
        {
          "output_type": "stream",
          "name": "stderr",
          "text": []
        },
        {
          "output_type": "stream",
          "name": "stdout",
          "text": [
            "MoviePy - Done.\n",
            "Moviepy - Writing video /content/drive/MyDrive/2nd sem/Adv Big Data & AI/downloaded_video/Video_6/segment_5.mp4\n",
            "\n"
          ]
        },
        {
          "output_type": "stream",
          "name": "stderr",
          "text": []
        },
        {
          "output_type": "stream",
          "name": "stdout",
          "text": [
            "Moviepy - Done !\n",
            "Moviepy - video ready /content/drive/MyDrive/2nd sem/Adv Big Data & AI/downloaded_video/Video_6/segment_5.mp4\n",
            "Moviepy - Building video /content/drive/MyDrive/2nd sem/Adv Big Data & AI/downloaded_video/Video_6/segment_6.mp4.\n",
            "MoviePy - Writing audio in segment_6TEMP_MPY_wvf_snd.mp4\n"
          ]
        },
        {
          "output_type": "stream",
          "name": "stderr",
          "text": []
        },
        {
          "output_type": "stream",
          "name": "stdout",
          "text": [
            "MoviePy - Done.\n",
            "Moviepy - Writing video /content/drive/MyDrive/2nd sem/Adv Big Data & AI/downloaded_video/Video_6/segment_6.mp4\n",
            "\n"
          ]
        },
        {
          "output_type": "stream",
          "name": "stderr",
          "text": []
        },
        {
          "output_type": "stream",
          "name": "stdout",
          "text": [
            "Moviepy - Done !\n",
            "Moviepy - video ready /content/drive/MyDrive/2nd sem/Adv Big Data & AI/downloaded_video/Video_6/segment_6.mp4\n",
            "Moviepy - Building video /content/drive/MyDrive/2nd sem/Adv Big Data & AI/downloaded_video/Video_6/segment_7.mp4.\n",
            "MoviePy - Writing audio in segment_7TEMP_MPY_wvf_snd.mp4\n"
          ]
        },
        {
          "output_type": "stream",
          "name": "stderr",
          "text": []
        },
        {
          "output_type": "stream",
          "name": "stdout",
          "text": [
            "MoviePy - Done.\n",
            "Moviepy - Writing video /content/drive/MyDrive/2nd sem/Adv Big Data & AI/downloaded_video/Video_6/segment_7.mp4\n",
            "\n"
          ]
        },
        {
          "output_type": "stream",
          "name": "stderr",
          "text": []
        },
        {
          "output_type": "stream",
          "name": "stdout",
          "text": [
            "Moviepy - Done !\n",
            "Moviepy - video ready /content/drive/MyDrive/2nd sem/Adv Big Data & AI/downloaded_video/Video_6/segment_7.mp4\n",
            "Moviepy - Building video /content/drive/MyDrive/2nd sem/Adv Big Data & AI/downloaded_video/Video_6/segment_8.mp4.\n",
            "MoviePy - Writing audio in segment_8TEMP_MPY_wvf_snd.mp4\n"
          ]
        },
        {
          "output_type": "stream",
          "name": "stderr",
          "text": []
        },
        {
          "output_type": "stream",
          "name": "stdout",
          "text": [
            "MoviePy - Done.\n",
            "Moviepy - Writing video /content/drive/MyDrive/2nd sem/Adv Big Data & AI/downloaded_video/Video_6/segment_8.mp4\n",
            "\n"
          ]
        },
        {
          "output_type": "stream",
          "name": "stderr",
          "text": []
        },
        {
          "output_type": "stream",
          "name": "stdout",
          "text": [
            "Moviepy - Done !\n",
            "Moviepy - video ready /content/drive/MyDrive/2nd sem/Adv Big Data & AI/downloaded_video/Video_6/segment_8.mp4\n",
            "Moviepy - Building video /content/drive/MyDrive/2nd sem/Adv Big Data & AI/downloaded_video/Video_6/segment_9.mp4.\n",
            "MoviePy - Writing audio in segment_9TEMP_MPY_wvf_snd.mp4\n"
          ]
        },
        {
          "output_type": "stream",
          "name": "stderr",
          "text": []
        },
        {
          "output_type": "stream",
          "name": "stdout",
          "text": [
            "MoviePy - Done.\n",
            "Moviepy - Writing video /content/drive/MyDrive/2nd sem/Adv Big Data & AI/downloaded_video/Video_6/segment_9.mp4\n",
            "\n"
          ]
        },
        {
          "output_type": "stream",
          "name": "stderr",
          "text": []
        },
        {
          "output_type": "stream",
          "name": "stdout",
          "text": [
            "Moviepy - Done !\n",
            "Moviepy - video ready /content/drive/MyDrive/2nd sem/Adv Big Data & AI/downloaded_video/Video_6/segment_9.mp4\n",
            "Moviepy - Building video /content/drive/MyDrive/2nd sem/Adv Big Data & AI/downloaded_video/Video_6/segment_10.mp4.\n",
            "MoviePy - Writing audio in segment_10TEMP_MPY_wvf_snd.mp4\n"
          ]
        },
        {
          "output_type": "stream",
          "name": "stderr",
          "text": []
        },
        {
          "output_type": "stream",
          "name": "stdout",
          "text": [
            "MoviePy - Done.\n",
            "Moviepy - Writing video /content/drive/MyDrive/2nd sem/Adv Big Data & AI/downloaded_video/Video_6/segment_10.mp4\n",
            "\n"
          ]
        },
        {
          "output_type": "stream",
          "name": "stderr",
          "text": []
        },
        {
          "output_type": "stream",
          "name": "stdout",
          "text": [
            "Moviepy - Done !\n",
            "Moviepy - video ready /content/drive/MyDrive/2nd sem/Adv Big Data & AI/downloaded_video/Video_6/segment_10.mp4\n",
            "Moviepy - Building video /content/drive/MyDrive/2nd sem/Adv Big Data & AI/downloaded_video/Video_6/segment_11.mp4.\n",
            "MoviePy - Writing audio in segment_11TEMP_MPY_wvf_snd.mp4\n"
          ]
        },
        {
          "output_type": "stream",
          "name": "stderr",
          "text": []
        },
        {
          "output_type": "stream",
          "name": "stdout",
          "text": [
            "MoviePy - Done.\n",
            "Moviepy - Writing video /content/drive/MyDrive/2nd sem/Adv Big Data & AI/downloaded_video/Video_6/segment_11.mp4\n",
            "\n"
          ]
        },
        {
          "output_type": "stream",
          "name": "stderr",
          "text": []
        },
        {
          "output_type": "stream",
          "name": "stdout",
          "text": [
            "Moviepy - Done !\n",
            "Moviepy - video ready /content/drive/MyDrive/2nd sem/Adv Big Data & AI/downloaded_video/Video_6/segment_11.mp4\n",
            "Moviepy - Building video /content/drive/MyDrive/2nd sem/Adv Big Data & AI/downloaded_video/Video_6/segment_12.mp4.\n",
            "MoviePy - Writing audio in segment_12TEMP_MPY_wvf_snd.mp4\n"
          ]
        },
        {
          "output_type": "stream",
          "name": "stderr",
          "text": []
        },
        {
          "output_type": "stream",
          "name": "stdout",
          "text": [
            "MoviePy - Done.\n",
            "Moviepy - Writing video /content/drive/MyDrive/2nd sem/Adv Big Data & AI/downloaded_video/Video_6/segment_12.mp4\n",
            "\n"
          ]
        },
        {
          "output_type": "stream",
          "name": "stderr",
          "text": []
        },
        {
          "output_type": "stream",
          "name": "stdout",
          "text": [
            "Moviepy - Done !\n",
            "Moviepy - video ready /content/drive/MyDrive/2nd sem/Adv Big Data & AI/downloaded_video/Video_6/segment_12.mp4\n",
            "Moviepy - Building video /content/drive/MyDrive/2nd sem/Adv Big Data & AI/downloaded_video/Video_6/segment_13.mp4.\n",
            "MoviePy - Writing audio in segment_13TEMP_MPY_wvf_snd.mp4\n"
          ]
        },
        {
          "output_type": "stream",
          "name": "stderr",
          "text": []
        },
        {
          "output_type": "stream",
          "name": "stdout",
          "text": [
            "MoviePy - Done.\n",
            "Moviepy - Writing video /content/drive/MyDrive/2nd sem/Adv Big Data & AI/downloaded_video/Video_6/segment_13.mp4\n",
            "\n"
          ]
        },
        {
          "output_type": "stream",
          "name": "stderr",
          "text": []
        },
        {
          "output_type": "stream",
          "name": "stdout",
          "text": [
            "Moviepy - Done !\n",
            "Moviepy - video ready /content/drive/MyDrive/2nd sem/Adv Big Data & AI/downloaded_video/Video_6/segment_13.mp4\n",
            "Moviepy - Building video /content/drive/MyDrive/2nd sem/Adv Big Data & AI/downloaded_video/Video_6/segment_14.mp4.\n",
            "MoviePy - Writing audio in segment_14TEMP_MPY_wvf_snd.mp4\n"
          ]
        },
        {
          "output_type": "stream",
          "name": "stderr",
          "text": []
        },
        {
          "output_type": "stream",
          "name": "stdout",
          "text": [
            "MoviePy - Done.\n",
            "Moviepy - Writing video /content/drive/MyDrive/2nd sem/Adv Big Data & AI/downloaded_video/Video_6/segment_14.mp4\n",
            "\n"
          ]
        },
        {
          "output_type": "stream",
          "name": "stderr",
          "text": []
        },
        {
          "output_type": "stream",
          "name": "stdout",
          "text": [
            "Moviepy - Done !\n",
            "Moviepy - video ready /content/drive/MyDrive/2nd sem/Adv Big Data & AI/downloaded_video/Video_6/segment_14.mp4\n",
            "Moviepy - Building video /content/drive/MyDrive/2nd sem/Adv Big Data & AI/downloaded_video/Video_6/segment_15.mp4.\n",
            "MoviePy - Writing audio in segment_15TEMP_MPY_wvf_snd.mp4\n"
          ]
        },
        {
          "output_type": "stream",
          "name": "stderr",
          "text": []
        },
        {
          "output_type": "stream",
          "name": "stdout",
          "text": [
            "MoviePy - Done.\n",
            "Moviepy - Writing video /content/drive/MyDrive/2nd sem/Adv Big Data & AI/downloaded_video/Video_6/segment_15.mp4\n",
            "\n"
          ]
        },
        {
          "output_type": "stream",
          "name": "stderr",
          "text": []
        },
        {
          "output_type": "stream",
          "name": "stdout",
          "text": [
            "Moviepy - Done !\n",
            "Moviepy - video ready /content/drive/MyDrive/2nd sem/Adv Big Data & AI/downloaded_video/Video_6/segment_15.mp4\n",
            "Moviepy - Building video /content/drive/MyDrive/2nd sem/Adv Big Data & AI/downloaded_video/Video_6/segment_16.mp4.\n",
            "MoviePy - Writing audio in segment_16TEMP_MPY_wvf_snd.mp4\n"
          ]
        },
        {
          "output_type": "stream",
          "name": "stderr",
          "text": []
        },
        {
          "output_type": "stream",
          "name": "stdout",
          "text": [
            "MoviePy - Done.\n",
            "Moviepy - Writing video /content/drive/MyDrive/2nd sem/Adv Big Data & AI/downloaded_video/Video_6/segment_16.mp4\n",
            "\n"
          ]
        },
        {
          "output_type": "stream",
          "name": "stderr",
          "text": []
        },
        {
          "output_type": "stream",
          "name": "stdout",
          "text": [
            "Moviepy - Done !\n",
            "Moviepy - video ready /content/drive/MyDrive/2nd sem/Adv Big Data & AI/downloaded_video/Video_6/segment_16.mp4\n",
            "Moviepy - Building video /content/drive/MyDrive/2nd sem/Adv Big Data & AI/downloaded_video/Video_6/segment_17.mp4.\n",
            "MoviePy - Writing audio in segment_17TEMP_MPY_wvf_snd.mp4\n"
          ]
        },
        {
          "output_type": "stream",
          "name": "stderr",
          "text": []
        },
        {
          "output_type": "stream",
          "name": "stdout",
          "text": [
            "MoviePy - Done.\n",
            "Moviepy - Writing video /content/drive/MyDrive/2nd sem/Adv Big Data & AI/downloaded_video/Video_6/segment_17.mp4\n",
            "\n"
          ]
        },
        {
          "output_type": "stream",
          "name": "stderr",
          "text": []
        },
        {
          "output_type": "stream",
          "name": "stdout",
          "text": [
            "Moviepy - Done !\n",
            "Moviepy - video ready /content/drive/MyDrive/2nd sem/Adv Big Data & AI/downloaded_video/Video_6/segment_17.mp4\n",
            "Moviepy - Building video /content/drive/MyDrive/2nd sem/Adv Big Data & AI/downloaded_video/Video_6/segment_18.mp4.\n",
            "MoviePy - Writing audio in segment_18TEMP_MPY_wvf_snd.mp4\n"
          ]
        },
        {
          "output_type": "stream",
          "name": "stderr",
          "text": []
        },
        {
          "output_type": "stream",
          "name": "stdout",
          "text": [
            "MoviePy - Done.\n",
            "Moviepy - Writing video /content/drive/MyDrive/2nd sem/Adv Big Data & AI/downloaded_video/Video_6/segment_18.mp4\n",
            "\n"
          ]
        },
        {
          "output_type": "stream",
          "name": "stderr",
          "text": []
        },
        {
          "output_type": "stream",
          "name": "stdout",
          "text": [
            "Moviepy - Done !\n",
            "Moviepy - video ready /content/drive/MyDrive/2nd sem/Adv Big Data & AI/downloaded_video/Video_6/segment_18.mp4\n",
            "Moviepy - Building video /content/drive/MyDrive/2nd sem/Adv Big Data & AI/downloaded_video/Video_6/segment_19.mp4.\n",
            "MoviePy - Writing audio in segment_19TEMP_MPY_wvf_snd.mp4\n"
          ]
        },
        {
          "output_type": "stream",
          "name": "stderr",
          "text": []
        },
        {
          "output_type": "stream",
          "name": "stdout",
          "text": [
            "MoviePy - Done.\n",
            "Moviepy - Writing video /content/drive/MyDrive/2nd sem/Adv Big Data & AI/downloaded_video/Video_6/segment_19.mp4\n",
            "\n"
          ]
        },
        {
          "output_type": "stream",
          "name": "stderr",
          "text": []
        },
        {
          "output_type": "stream",
          "name": "stdout",
          "text": [
            "Moviepy - Done !\n",
            "Moviepy - video ready /content/drive/MyDrive/2nd sem/Adv Big Data & AI/downloaded_video/Video_6/segment_19.mp4\n",
            "Moviepy - Building video /content/drive/MyDrive/2nd sem/Adv Big Data & AI/downloaded_video/Video_6/segment_20.mp4.\n",
            "MoviePy - Writing audio in segment_20TEMP_MPY_wvf_snd.mp4\n"
          ]
        },
        {
          "output_type": "stream",
          "name": "stderr",
          "text": []
        },
        {
          "output_type": "stream",
          "name": "stdout",
          "text": [
            "MoviePy - Done.\n",
            "Moviepy - Writing video /content/drive/MyDrive/2nd sem/Adv Big Data & AI/downloaded_video/Video_6/segment_20.mp4\n",
            "\n"
          ]
        },
        {
          "output_type": "stream",
          "name": "stderr",
          "text": []
        },
        {
          "output_type": "stream",
          "name": "stdout",
          "text": [
            "Moviepy - Done !\n",
            "Moviepy - video ready /content/drive/MyDrive/2nd sem/Adv Big Data & AI/downloaded_video/Video_6/segment_20.mp4\n",
            "Moviepy - Building video /content/drive/MyDrive/2nd sem/Adv Big Data & AI/downloaded_video/Video_6/segment_21.mp4.\n",
            "MoviePy - Writing audio in segment_21TEMP_MPY_wvf_snd.mp4\n"
          ]
        },
        {
          "output_type": "stream",
          "name": "stderr",
          "text": []
        },
        {
          "output_type": "stream",
          "name": "stdout",
          "text": [
            "MoviePy - Done.\n",
            "Moviepy - Writing video /content/drive/MyDrive/2nd sem/Adv Big Data & AI/downloaded_video/Video_6/segment_21.mp4\n",
            "\n"
          ]
        },
        {
          "output_type": "stream",
          "name": "stderr",
          "text": []
        },
        {
          "output_type": "stream",
          "name": "stdout",
          "text": [
            "Moviepy - Done !\n",
            "Moviepy - video ready /content/drive/MyDrive/2nd sem/Adv Big Data & AI/downloaded_video/Video_6/segment_21.mp4\n",
            "Moviepy - Building video /content/drive/MyDrive/2nd sem/Adv Big Data & AI/downloaded_video/Video_6/segment_22.mp4.\n",
            "MoviePy - Writing audio in segment_22TEMP_MPY_wvf_snd.mp4\n"
          ]
        },
        {
          "output_type": "stream",
          "name": "stderr",
          "text": []
        },
        {
          "output_type": "stream",
          "name": "stdout",
          "text": [
            "MoviePy - Done.\n",
            "Moviepy - Writing video /content/drive/MyDrive/2nd sem/Adv Big Data & AI/downloaded_video/Video_6/segment_22.mp4\n",
            "\n"
          ]
        },
        {
          "output_type": "stream",
          "name": "stderr",
          "text": []
        },
        {
          "output_type": "stream",
          "name": "stdout",
          "text": [
            "Moviepy - Done !\n",
            "Moviepy - video ready /content/drive/MyDrive/2nd sem/Adv Big Data & AI/downloaded_video/Video_6/segment_22.mp4\n",
            "Moviepy - Building video /content/drive/MyDrive/2nd sem/Adv Big Data & AI/downloaded_video/Video_6/segment_23.mp4.\n",
            "MoviePy - Writing audio in segment_23TEMP_MPY_wvf_snd.mp4\n"
          ]
        },
        {
          "output_type": "stream",
          "name": "stderr",
          "text": []
        },
        {
          "output_type": "stream",
          "name": "stdout",
          "text": [
            "MoviePy - Done.\n",
            "Moviepy - Writing video /content/drive/MyDrive/2nd sem/Adv Big Data & AI/downloaded_video/Video_6/segment_23.mp4\n",
            "\n"
          ]
        },
        {
          "output_type": "stream",
          "name": "stderr",
          "text": []
        },
        {
          "output_type": "stream",
          "name": "stdout",
          "text": [
            "Moviepy - Done !\n",
            "Moviepy - video ready /content/drive/MyDrive/2nd sem/Adv Big Data & AI/downloaded_video/Video_6/segment_23.mp4\n",
            "Moviepy - Building video /content/drive/MyDrive/2nd sem/Adv Big Data & AI/downloaded_video/Video_6/segment_24.mp4.\n",
            "MoviePy - Writing audio in segment_24TEMP_MPY_wvf_snd.mp4\n"
          ]
        },
        {
          "output_type": "stream",
          "name": "stderr",
          "text": []
        },
        {
          "output_type": "stream",
          "name": "stdout",
          "text": [
            "MoviePy - Done.\n",
            "Moviepy - Writing video /content/drive/MyDrive/2nd sem/Adv Big Data & AI/downloaded_video/Video_6/segment_24.mp4\n",
            "\n"
          ]
        },
        {
          "output_type": "stream",
          "name": "stderr",
          "text": []
        },
        {
          "output_type": "stream",
          "name": "stdout",
          "text": [
            "Moviepy - Done !\n",
            "Moviepy - video ready /content/drive/MyDrive/2nd sem/Adv Big Data & AI/downloaded_video/Video_6/segment_24.mp4\n",
            "Moviepy - Building video /content/drive/MyDrive/2nd sem/Adv Big Data & AI/downloaded_video/Video_6/segment_25.mp4.\n",
            "MoviePy - Writing audio in segment_25TEMP_MPY_wvf_snd.mp4\n"
          ]
        },
        {
          "output_type": "stream",
          "name": "stderr",
          "text": []
        },
        {
          "output_type": "stream",
          "name": "stdout",
          "text": [
            "MoviePy - Done.\n",
            "Moviepy - Writing video /content/drive/MyDrive/2nd sem/Adv Big Data & AI/downloaded_video/Video_6/segment_25.mp4\n",
            "\n"
          ]
        },
        {
          "output_type": "stream",
          "name": "stderr",
          "text": []
        },
        {
          "output_type": "stream",
          "name": "stdout",
          "text": [
            "Moviepy - Done !\n",
            "Moviepy - video ready /content/drive/MyDrive/2nd sem/Adv Big Data & AI/downloaded_video/Video_6/segment_25.mp4\n",
            "Moviepy - Building video /content/drive/MyDrive/2nd sem/Adv Big Data & AI/downloaded_video/Video_6/segment_26.mp4.\n",
            "MoviePy - Writing audio in segment_26TEMP_MPY_wvf_snd.mp4\n"
          ]
        },
        {
          "output_type": "stream",
          "name": "stderr",
          "text": []
        },
        {
          "output_type": "stream",
          "name": "stdout",
          "text": [
            "MoviePy - Done.\n",
            "Moviepy - Writing video /content/drive/MyDrive/2nd sem/Adv Big Data & AI/downloaded_video/Video_6/segment_26.mp4\n",
            "\n"
          ]
        },
        {
          "output_type": "stream",
          "name": "stderr",
          "text": []
        },
        {
          "output_type": "stream",
          "name": "stdout",
          "text": [
            "Moviepy - Done !\n",
            "Moviepy - video ready /content/drive/MyDrive/2nd sem/Adv Big Data & AI/downloaded_video/Video_6/segment_26.mp4\n",
            "Moviepy - Building video /content/drive/MyDrive/2nd sem/Adv Big Data & AI/downloaded_video/Video_6/segment_27.mp4.\n",
            "MoviePy - Writing audio in segment_27TEMP_MPY_wvf_snd.mp4\n"
          ]
        },
        {
          "output_type": "stream",
          "name": "stderr",
          "text": []
        },
        {
          "output_type": "stream",
          "name": "stdout",
          "text": [
            "MoviePy - Done.\n",
            "Moviepy - Writing video /content/drive/MyDrive/2nd sem/Adv Big Data & AI/downloaded_video/Video_6/segment_27.mp4\n",
            "\n"
          ]
        },
        {
          "output_type": "stream",
          "name": "stderr",
          "text": []
        },
        {
          "output_type": "stream",
          "name": "stdout",
          "text": [
            "Moviepy - Done !\n",
            "Moviepy - video ready /content/drive/MyDrive/2nd sem/Adv Big Data & AI/downloaded_video/Video_6/segment_27.mp4\n",
            "Moviepy - Building video /content/drive/MyDrive/2nd sem/Adv Big Data & AI/downloaded_video/Video_6/segment_28.mp4.\n",
            "MoviePy - Writing audio in segment_28TEMP_MPY_wvf_snd.mp4\n"
          ]
        },
        {
          "output_type": "stream",
          "name": "stderr",
          "text": []
        },
        {
          "output_type": "stream",
          "name": "stdout",
          "text": [
            "MoviePy - Done.\n",
            "Moviepy - Writing video /content/drive/MyDrive/2nd sem/Adv Big Data & AI/downloaded_video/Video_6/segment_28.mp4\n",
            "\n"
          ]
        },
        {
          "output_type": "stream",
          "name": "stderr",
          "text": []
        },
        {
          "output_type": "stream",
          "name": "stdout",
          "text": [
            "Moviepy - Done !\n",
            "Moviepy - video ready /content/drive/MyDrive/2nd sem/Adv Big Data & AI/downloaded_video/Video_6/segment_28.mp4\n",
            "Moviepy - Building video /content/drive/MyDrive/2nd sem/Adv Big Data & AI/downloaded_video/Video_6/segment_29.mp4.\n",
            "MoviePy - Writing audio in segment_29TEMP_MPY_wvf_snd.mp4\n"
          ]
        },
        {
          "output_type": "stream",
          "name": "stderr",
          "text": []
        },
        {
          "output_type": "stream",
          "name": "stdout",
          "text": [
            "MoviePy - Done.\n",
            "Moviepy - Writing video /content/drive/MyDrive/2nd sem/Adv Big Data & AI/downloaded_video/Video_6/segment_29.mp4\n",
            "\n"
          ]
        },
        {
          "output_type": "stream",
          "name": "stderr",
          "text": []
        },
        {
          "output_type": "stream",
          "name": "stdout",
          "text": [
            "Moviepy - Done !\n",
            "Moviepy - video ready /content/drive/MyDrive/2nd sem/Adv Big Data & AI/downloaded_video/Video_6/segment_29.mp4\n",
            "Moviepy - Building video /content/drive/MyDrive/2nd sem/Adv Big Data & AI/downloaded_video/Video_6/segment_30.mp4.\n",
            "MoviePy - Writing audio in segment_30TEMP_MPY_wvf_snd.mp4\n"
          ]
        },
        {
          "output_type": "stream",
          "name": "stderr",
          "text": []
        },
        {
          "output_type": "stream",
          "name": "stdout",
          "text": [
            "MoviePy - Done.\n",
            "Moviepy - Writing video /content/drive/MyDrive/2nd sem/Adv Big Data & AI/downloaded_video/Video_6/segment_30.mp4\n",
            "\n"
          ]
        },
        {
          "output_type": "stream",
          "name": "stderr",
          "text": []
        },
        {
          "output_type": "stream",
          "name": "stdout",
          "text": [
            "Moviepy - Done !\n",
            "Moviepy - video ready /content/drive/MyDrive/2nd sem/Adv Big Data & AI/downloaded_video/Video_6/segment_30.mp4\n",
            "Moviepy - Building video /content/drive/MyDrive/2nd sem/Adv Big Data & AI/downloaded_video/Video_6/segment_31.mp4.\n",
            "MoviePy - Writing audio in segment_31TEMP_MPY_wvf_snd.mp4\n"
          ]
        },
        {
          "output_type": "stream",
          "name": "stderr",
          "text": []
        },
        {
          "output_type": "stream",
          "name": "stdout",
          "text": [
            "MoviePy - Done.\n",
            "Moviepy - Writing video /content/drive/MyDrive/2nd sem/Adv Big Data & AI/downloaded_video/Video_6/segment_31.mp4\n",
            "\n"
          ]
        },
        {
          "output_type": "stream",
          "name": "stderr",
          "text": []
        },
        {
          "output_type": "stream",
          "name": "stdout",
          "text": [
            "Moviepy - Done !\n",
            "Moviepy - video ready /content/drive/MyDrive/2nd sem/Adv Big Data & AI/downloaded_video/Video_6/segment_31.mp4\n",
            "Moviepy - Building video /content/drive/MyDrive/2nd sem/Adv Big Data & AI/downloaded_video/Video_6/segment_32.mp4.\n",
            "MoviePy - Writing audio in segment_32TEMP_MPY_wvf_snd.mp4\n"
          ]
        },
        {
          "output_type": "stream",
          "name": "stderr",
          "text": []
        },
        {
          "output_type": "stream",
          "name": "stdout",
          "text": [
            "MoviePy - Done.\n",
            "Moviepy - Writing video /content/drive/MyDrive/2nd sem/Adv Big Data & AI/downloaded_video/Video_6/segment_32.mp4\n",
            "\n"
          ]
        },
        {
          "output_type": "stream",
          "name": "stderr",
          "text": []
        },
        {
          "output_type": "stream",
          "name": "stdout",
          "text": [
            "Moviepy - Done !\n",
            "Moviepy - video ready /content/drive/MyDrive/2nd sem/Adv Big Data & AI/downloaded_video/Video_6/segment_32.mp4\n",
            "Moviepy - Building video /content/drive/MyDrive/2nd sem/Adv Big Data & AI/downloaded_video/Video_6/segment_33.mp4.\n",
            "MoviePy - Writing audio in segment_33TEMP_MPY_wvf_snd.mp4\n"
          ]
        },
        {
          "output_type": "stream",
          "name": "stderr",
          "text": []
        },
        {
          "output_type": "stream",
          "name": "stdout",
          "text": [
            "MoviePy - Done.\n",
            "Moviepy - Writing video /content/drive/MyDrive/2nd sem/Adv Big Data & AI/downloaded_video/Video_6/segment_33.mp4\n",
            "\n"
          ]
        },
        {
          "output_type": "stream",
          "name": "stderr",
          "text": []
        },
        {
          "output_type": "stream",
          "name": "stdout",
          "text": [
            "Moviepy - Done !\n",
            "Moviepy - video ready /content/drive/MyDrive/2nd sem/Adv Big Data & AI/downloaded_video/Video_6/segment_33.mp4\n",
            "Moviepy - Building video /content/drive/MyDrive/2nd sem/Adv Big Data & AI/downloaded_video/Video_6/segment_34.mp4.\n",
            "MoviePy - Writing audio in segment_34TEMP_MPY_wvf_snd.mp4\n"
          ]
        },
        {
          "output_type": "stream",
          "name": "stderr",
          "text": []
        },
        {
          "output_type": "stream",
          "name": "stdout",
          "text": [
            "MoviePy - Done.\n",
            "Moviepy - Writing video /content/drive/MyDrive/2nd sem/Adv Big Data & AI/downloaded_video/Video_6/segment_34.mp4\n",
            "\n"
          ]
        },
        {
          "output_type": "stream",
          "name": "stderr",
          "text": []
        },
        {
          "output_type": "stream",
          "name": "stdout",
          "text": [
            "Moviepy - Done !\n",
            "Moviepy - video ready /content/drive/MyDrive/2nd sem/Adv Big Data & AI/downloaded_video/Video_6/segment_34.mp4\n",
            "Moviepy - Building video /content/drive/MyDrive/2nd sem/Adv Big Data & AI/downloaded_video/Video_6/segment_35.mp4.\n",
            "MoviePy - Writing audio in segment_35TEMP_MPY_wvf_snd.mp4\n"
          ]
        },
        {
          "output_type": "stream",
          "name": "stderr",
          "text": []
        },
        {
          "output_type": "stream",
          "name": "stdout",
          "text": [
            "MoviePy - Done.\n",
            "Moviepy - Writing video /content/drive/MyDrive/2nd sem/Adv Big Data & AI/downloaded_video/Video_6/segment_35.mp4\n",
            "\n"
          ]
        },
        {
          "output_type": "stream",
          "name": "stderr",
          "text": []
        },
        {
          "output_type": "stream",
          "name": "stdout",
          "text": [
            "Moviepy - Done !\n",
            "Moviepy - video ready /content/drive/MyDrive/2nd sem/Adv Big Data & AI/downloaded_video/Video_6/segment_35.mp4\n",
            "Moviepy - Building video /content/drive/MyDrive/2nd sem/Adv Big Data & AI/downloaded_video/Video_6/segment_36.mp4.\n",
            "MoviePy - Writing audio in segment_36TEMP_MPY_wvf_snd.mp4\n"
          ]
        },
        {
          "output_type": "stream",
          "name": "stderr",
          "text": []
        },
        {
          "output_type": "stream",
          "name": "stdout",
          "text": [
            "MoviePy - Done.\n",
            "Moviepy - Writing video /content/drive/MyDrive/2nd sem/Adv Big Data & AI/downloaded_video/Video_6/segment_36.mp4\n",
            "\n"
          ]
        },
        {
          "output_type": "stream",
          "name": "stderr",
          "text": []
        },
        {
          "output_type": "stream",
          "name": "stdout",
          "text": [
            "Moviepy - Done !\n",
            "Moviepy - video ready /content/drive/MyDrive/2nd sem/Adv Big Data & AI/downloaded_video/Video_6/segment_36.mp4\n",
            "Moviepy - Building video /content/drive/MyDrive/2nd sem/Adv Big Data & AI/downloaded_video/Video_6/segment_37.mp4.\n",
            "MoviePy - Writing audio in segment_37TEMP_MPY_wvf_snd.mp4\n"
          ]
        },
        {
          "output_type": "stream",
          "name": "stderr",
          "text": []
        },
        {
          "output_type": "stream",
          "name": "stdout",
          "text": [
            "MoviePy - Done.\n",
            "Moviepy - Writing video /content/drive/MyDrive/2nd sem/Adv Big Data & AI/downloaded_video/Video_6/segment_37.mp4\n",
            "\n"
          ]
        },
        {
          "output_type": "stream",
          "name": "stderr",
          "text": []
        },
        {
          "output_type": "stream",
          "name": "stdout",
          "text": [
            "Moviepy - Done !\n",
            "Moviepy - video ready /content/drive/MyDrive/2nd sem/Adv Big Data & AI/downloaded_video/Video_6/segment_37.mp4\n",
            "Moviepy - Building video /content/drive/MyDrive/2nd sem/Adv Big Data & AI/downloaded_video/Video_6/segment_38.mp4.\n",
            "MoviePy - Writing audio in segment_38TEMP_MPY_wvf_snd.mp4\n"
          ]
        },
        {
          "output_type": "stream",
          "name": "stderr",
          "text": []
        },
        {
          "output_type": "stream",
          "name": "stdout",
          "text": [
            "MoviePy - Done.\n",
            "Moviepy - Writing video /content/drive/MyDrive/2nd sem/Adv Big Data & AI/downloaded_video/Video_6/segment_38.mp4\n",
            "\n"
          ]
        },
        {
          "output_type": "stream",
          "name": "stderr",
          "text": []
        },
        {
          "output_type": "stream",
          "name": "stdout",
          "text": [
            "Moviepy - Done !\n",
            "Moviepy - video ready /content/drive/MyDrive/2nd sem/Adv Big Data & AI/downloaded_video/Video_6/segment_38.mp4\n",
            "Moviepy - Building video /content/drive/MyDrive/2nd sem/Adv Big Data & AI/downloaded_video/Video_6/segment_39.mp4.\n",
            "MoviePy - Writing audio in segment_39TEMP_MPY_wvf_snd.mp4\n"
          ]
        },
        {
          "output_type": "stream",
          "name": "stderr",
          "text": []
        },
        {
          "output_type": "stream",
          "name": "stdout",
          "text": [
            "MoviePy - Done.\n",
            "Moviepy - Writing video /content/drive/MyDrive/2nd sem/Adv Big Data & AI/downloaded_video/Video_6/segment_39.mp4\n",
            "\n"
          ]
        },
        {
          "output_type": "stream",
          "name": "stderr",
          "text": []
        },
        {
          "output_type": "stream",
          "name": "stdout",
          "text": [
            "Moviepy - Done !\n",
            "Moviepy - video ready /content/drive/MyDrive/2nd sem/Adv Big Data & AI/downloaded_video/Video_6/segment_39.mp4\n",
            "Moviepy - Building video /content/drive/MyDrive/2nd sem/Adv Big Data & AI/downloaded_video/Video_6/segment_40.mp4.\n",
            "MoviePy - Writing audio in segment_40TEMP_MPY_wvf_snd.mp4\n"
          ]
        },
        {
          "output_type": "stream",
          "name": "stderr",
          "text": []
        },
        {
          "output_type": "stream",
          "name": "stdout",
          "text": [
            "MoviePy - Done.\n",
            "Moviepy - Writing video /content/drive/MyDrive/2nd sem/Adv Big Data & AI/downloaded_video/Video_6/segment_40.mp4\n",
            "\n"
          ]
        },
        {
          "output_type": "stream",
          "name": "stderr",
          "text": []
        },
        {
          "output_type": "stream",
          "name": "stdout",
          "text": [
            "Moviepy - Done !\n",
            "Moviepy - video ready /content/drive/MyDrive/2nd sem/Adv Big Data & AI/downloaded_video/Video_6/segment_40.mp4\n",
            "Moviepy - Building video /content/drive/MyDrive/2nd sem/Adv Big Data & AI/downloaded_video/Video_6/segment_41.mp4.\n",
            "MoviePy - Writing audio in segment_41TEMP_MPY_wvf_snd.mp4\n"
          ]
        },
        {
          "output_type": "stream",
          "name": "stderr",
          "text": []
        },
        {
          "output_type": "stream",
          "name": "stdout",
          "text": [
            "MoviePy - Done.\n",
            "Moviepy - Writing video /content/drive/MyDrive/2nd sem/Adv Big Data & AI/downloaded_video/Video_6/segment_41.mp4\n",
            "\n"
          ]
        },
        {
          "output_type": "stream",
          "name": "stderr",
          "text": []
        },
        {
          "output_type": "stream",
          "name": "stdout",
          "text": [
            "Moviepy - Done !\n",
            "Moviepy - video ready /content/drive/MyDrive/2nd sem/Adv Big Data & AI/downloaded_video/Video_6/segment_41.mp4\n",
            "Moviepy - Building video /content/drive/MyDrive/2nd sem/Adv Big Data & AI/downloaded_video/Video_6/segment_42.mp4.\n",
            "MoviePy - Writing audio in segment_42TEMP_MPY_wvf_snd.mp4\n"
          ]
        },
        {
          "output_type": "stream",
          "name": "stderr",
          "text": []
        },
        {
          "output_type": "stream",
          "name": "stdout",
          "text": [
            "MoviePy - Done.\n",
            "Moviepy - Writing video /content/drive/MyDrive/2nd sem/Adv Big Data & AI/downloaded_video/Video_6/segment_42.mp4\n",
            "\n"
          ]
        },
        {
          "output_type": "stream",
          "name": "stderr",
          "text": []
        },
        {
          "output_type": "stream",
          "name": "stdout",
          "text": [
            "Moviepy - Done !\n",
            "Moviepy - video ready /content/drive/MyDrive/2nd sem/Adv Big Data & AI/downloaded_video/Video_6/segment_42.mp4\n",
            "Moviepy - Building video /content/drive/MyDrive/2nd sem/Adv Big Data & AI/downloaded_video/Video_6/segment_43.mp4.\n",
            "MoviePy - Writing audio in segment_43TEMP_MPY_wvf_snd.mp4\n"
          ]
        },
        {
          "output_type": "stream",
          "name": "stderr",
          "text": []
        },
        {
          "output_type": "stream",
          "name": "stdout",
          "text": [
            "MoviePy - Done.\n",
            "Moviepy - Writing video /content/drive/MyDrive/2nd sem/Adv Big Data & AI/downloaded_video/Video_6/segment_43.mp4\n",
            "\n"
          ]
        },
        {
          "output_type": "stream",
          "name": "stderr",
          "text": []
        },
        {
          "output_type": "stream",
          "name": "stdout",
          "text": [
            "Moviepy - Done !\n",
            "Moviepy - video ready /content/drive/MyDrive/2nd sem/Adv Big Data & AI/downloaded_video/Video_6/segment_43.mp4\n",
            "Moviepy - Building video /content/drive/MyDrive/2nd sem/Adv Big Data & AI/downloaded_video/Video_6/segment_44.mp4.\n",
            "MoviePy - Writing audio in segment_44TEMP_MPY_wvf_snd.mp4\n"
          ]
        },
        {
          "output_type": "stream",
          "name": "stderr",
          "text": []
        },
        {
          "output_type": "stream",
          "name": "stdout",
          "text": [
            "MoviePy - Done.\n",
            "Moviepy - Writing video /content/drive/MyDrive/2nd sem/Adv Big Data & AI/downloaded_video/Video_6/segment_44.mp4\n",
            "\n"
          ]
        },
        {
          "output_type": "stream",
          "name": "stderr",
          "text": []
        },
        {
          "output_type": "stream",
          "name": "stdout",
          "text": [
            "Moviepy - Done !\n",
            "Moviepy - video ready /content/drive/MyDrive/2nd sem/Adv Big Data & AI/downloaded_video/Video_6/segment_44.mp4\n",
            "Moviepy - Building video /content/drive/MyDrive/2nd sem/Adv Big Data & AI/downloaded_video/Video_6/segment_45.mp4.\n",
            "MoviePy - Writing audio in segment_45TEMP_MPY_wvf_snd.mp4\n"
          ]
        },
        {
          "output_type": "stream",
          "name": "stderr",
          "text": []
        },
        {
          "output_type": "stream",
          "name": "stdout",
          "text": [
            "MoviePy - Done.\n",
            "Moviepy - Writing video /content/drive/MyDrive/2nd sem/Adv Big Data & AI/downloaded_video/Video_6/segment_45.mp4\n",
            "\n"
          ]
        },
        {
          "output_type": "stream",
          "name": "stderr",
          "text": []
        },
        {
          "output_type": "stream",
          "name": "stdout",
          "text": [
            "Moviepy - Done !\n",
            "Moviepy - video ready /content/drive/MyDrive/2nd sem/Adv Big Data & AI/downloaded_video/Video_6/segment_45.mp4\n",
            "Moviepy - Building video /content/drive/MyDrive/2nd sem/Adv Big Data & AI/downloaded_video/Video_6/segment_46.mp4.\n",
            "MoviePy - Writing audio in segment_46TEMP_MPY_wvf_snd.mp4\n"
          ]
        },
        {
          "output_type": "stream",
          "name": "stderr",
          "text": []
        },
        {
          "output_type": "stream",
          "name": "stdout",
          "text": [
            "MoviePy - Done.\n",
            "Moviepy - Writing video /content/drive/MyDrive/2nd sem/Adv Big Data & AI/downloaded_video/Video_6/segment_46.mp4\n",
            "\n"
          ]
        },
        {
          "output_type": "stream",
          "name": "stderr",
          "text": []
        },
        {
          "output_type": "stream",
          "name": "stdout",
          "text": [
            "Moviepy - Done !\n",
            "Moviepy - video ready /content/drive/MyDrive/2nd sem/Adv Big Data & AI/downloaded_video/Video_6/segment_46.mp4\n",
            "Moviepy - Building video /content/drive/MyDrive/2nd sem/Adv Big Data & AI/downloaded_video/Video_6/segment_47.mp4.\n",
            "MoviePy - Writing audio in segment_47TEMP_MPY_wvf_snd.mp4\n"
          ]
        },
        {
          "output_type": "stream",
          "name": "stderr",
          "text": []
        },
        {
          "output_type": "stream",
          "name": "stdout",
          "text": [
            "MoviePy - Done.\n",
            "Moviepy - Writing video /content/drive/MyDrive/2nd sem/Adv Big Data & AI/downloaded_video/Video_6/segment_47.mp4\n",
            "\n"
          ]
        },
        {
          "output_type": "stream",
          "name": "stderr",
          "text": []
        },
        {
          "output_type": "stream",
          "name": "stdout",
          "text": [
            "Moviepy - Done !\n",
            "Moviepy - video ready /content/drive/MyDrive/2nd sem/Adv Big Data & AI/downloaded_video/Video_6/segment_47.mp4\n",
            "Moviepy - Building video /content/drive/MyDrive/2nd sem/Adv Big Data & AI/downloaded_video/Video_6/segment_48.mp4.\n",
            "MoviePy - Writing audio in segment_48TEMP_MPY_wvf_snd.mp4\n"
          ]
        },
        {
          "output_type": "stream",
          "name": "stderr",
          "text": []
        },
        {
          "output_type": "stream",
          "name": "stdout",
          "text": [
            "MoviePy - Done.\n",
            "Moviepy - Writing video /content/drive/MyDrive/2nd sem/Adv Big Data & AI/downloaded_video/Video_6/segment_48.mp4\n",
            "\n"
          ]
        },
        {
          "output_type": "stream",
          "name": "stderr",
          "text": []
        },
        {
          "output_type": "stream",
          "name": "stdout",
          "text": [
            "Moviepy - Done !\n",
            "Moviepy - video ready /content/drive/MyDrive/2nd sem/Adv Big Data & AI/downloaded_video/Video_6/segment_48.mp4\n",
            "Moviepy - Building video /content/drive/MyDrive/2nd sem/Adv Big Data & AI/downloaded_video/Video_6/segment_49.mp4.\n",
            "MoviePy - Writing audio in segment_49TEMP_MPY_wvf_snd.mp4\n"
          ]
        },
        {
          "output_type": "stream",
          "name": "stderr",
          "text": []
        },
        {
          "output_type": "stream",
          "name": "stdout",
          "text": [
            "MoviePy - Done.\n",
            "Moviepy - Writing video /content/drive/MyDrive/2nd sem/Adv Big Data & AI/downloaded_video/Video_6/segment_49.mp4\n",
            "\n"
          ]
        },
        {
          "output_type": "stream",
          "name": "stderr",
          "text": []
        },
        {
          "output_type": "stream",
          "name": "stdout",
          "text": [
            "Moviepy - Done !\n",
            "Moviepy - video ready /content/drive/MyDrive/2nd sem/Adv Big Data & AI/downloaded_video/Video_6/segment_49.mp4\n",
            "Moviepy - Building video /content/drive/MyDrive/2nd sem/Adv Big Data & AI/downloaded_video/Video_6/segment_50.mp4.\n",
            "MoviePy - Writing audio in segment_50TEMP_MPY_wvf_snd.mp4\n"
          ]
        },
        {
          "output_type": "stream",
          "name": "stderr",
          "text": []
        },
        {
          "output_type": "stream",
          "name": "stdout",
          "text": [
            "MoviePy - Done.\n",
            "Moviepy - Writing video /content/drive/MyDrive/2nd sem/Adv Big Data & AI/downloaded_video/Video_6/segment_50.mp4\n",
            "\n"
          ]
        },
        {
          "output_type": "stream",
          "name": "stderr",
          "text": []
        },
        {
          "output_type": "stream",
          "name": "stdout",
          "text": [
            "Moviepy - Done !\n",
            "Moviepy - video ready /content/drive/MyDrive/2nd sem/Adv Big Data & AI/downloaded_video/Video_6/segment_50.mp4\n",
            "Moviepy - Building video /content/drive/MyDrive/2nd sem/Adv Big Data & AI/downloaded_video/Video_6/segment_51.mp4.\n",
            "MoviePy - Writing audio in segment_51TEMP_MPY_wvf_snd.mp4\n"
          ]
        },
        {
          "output_type": "stream",
          "name": "stderr",
          "text": []
        },
        {
          "output_type": "stream",
          "name": "stdout",
          "text": [
            "MoviePy - Done.\n",
            "Moviepy - Writing video /content/drive/MyDrive/2nd sem/Adv Big Data & AI/downloaded_video/Video_6/segment_51.mp4\n",
            "\n"
          ]
        },
        {
          "output_type": "stream",
          "name": "stderr",
          "text": []
        },
        {
          "output_type": "stream",
          "name": "stdout",
          "text": [
            "Moviepy - Done !\n",
            "Moviepy - video ready /content/drive/MyDrive/2nd sem/Adv Big Data & AI/downloaded_video/Video_6/segment_51.mp4\n",
            "Moviepy - Building video /content/drive/MyDrive/2nd sem/Adv Big Data & AI/downloaded_video/Video_6/segment_52.mp4.\n",
            "MoviePy - Writing audio in segment_52TEMP_MPY_wvf_snd.mp4\n"
          ]
        },
        {
          "output_type": "stream",
          "name": "stderr",
          "text": []
        },
        {
          "output_type": "stream",
          "name": "stdout",
          "text": [
            "MoviePy - Done.\n",
            "Moviepy - Writing video /content/drive/MyDrive/2nd sem/Adv Big Data & AI/downloaded_video/Video_6/segment_52.mp4\n",
            "\n"
          ]
        },
        {
          "output_type": "stream",
          "name": "stderr",
          "text": []
        },
        {
          "output_type": "stream",
          "name": "stdout",
          "text": [
            "Moviepy - Done !\n",
            "Moviepy - video ready /content/drive/MyDrive/2nd sem/Adv Big Data & AI/downloaded_video/Video_6/segment_52.mp4\n",
            "Moviepy - Building video /content/drive/MyDrive/2nd sem/Adv Big Data & AI/downloaded_video/Video_6/segment_53.mp4.\n",
            "MoviePy - Writing audio in segment_53TEMP_MPY_wvf_snd.mp4\n"
          ]
        },
        {
          "output_type": "stream",
          "name": "stderr",
          "text": []
        },
        {
          "output_type": "stream",
          "name": "stdout",
          "text": [
            "MoviePy - Done.\n",
            "Moviepy - Writing video /content/drive/MyDrive/2nd sem/Adv Big Data & AI/downloaded_video/Video_6/segment_53.mp4\n",
            "\n"
          ]
        },
        {
          "output_type": "stream",
          "name": "stderr",
          "text": []
        },
        {
          "output_type": "stream",
          "name": "stdout",
          "text": [
            "Moviepy - Done !\n",
            "Moviepy - video ready /content/drive/MyDrive/2nd sem/Adv Big Data & AI/downloaded_video/Video_6/segment_53.mp4\n",
            "Moviepy - Building video /content/drive/MyDrive/2nd sem/Adv Big Data & AI/downloaded_video/Video_6/segment_54.mp4.\n",
            "MoviePy - Writing audio in segment_54TEMP_MPY_wvf_snd.mp4\n"
          ]
        },
        {
          "output_type": "stream",
          "name": "stderr",
          "text": []
        },
        {
          "output_type": "stream",
          "name": "stdout",
          "text": [
            "MoviePy - Done.\n",
            "Moviepy - Writing video /content/drive/MyDrive/2nd sem/Adv Big Data & AI/downloaded_video/Video_6/segment_54.mp4\n",
            "\n"
          ]
        },
        {
          "output_type": "stream",
          "name": "stderr",
          "text": [
            "t:  93%|█████████▎| 141/151 [00:01<00:00, 127.17it/s, now=None]WARNING:py.warnings:/usr/local/lib/python3.9/dist-packages/moviepy/video/io/ffmpeg_reader.py:123: UserWarning: Warning: in file /content/drive/MyDrive/2nd sem/Adv Big Data & AI/downloaded_video/Video_6/segment_Follow these 14 Basic Rules to ensure you crack every interview.mp4, 691200 bytes wanted but 0 bytes read,at frame 16034/16035, at time 535.00/535.02 sec. Using the last valid frame instead.\n",
            "  warnings.warn(\"Warning: in file %s, \"%(self.filename)+\n",
            "\n"
          ]
        },
        {
          "output_type": "stream",
          "name": "stdout",
          "text": [
            "Moviepy - Done !\n",
            "Moviepy - video ready /content/drive/MyDrive/2nd sem/Adv Big Data & AI/downloaded_video/Video_6/segment_54.mp4\n",
            "Video segment divided and saved successfully.\n",
            "Video segments saved to ['/content/drive/MyDrive/2nd sem/Adv Big Data & AI/downloaded_video/Video_6/segment_1.mp4', '/content/drive/MyDrive/2nd sem/Adv Big Data & AI/downloaded_video/Video_6/segment_2.mp4', '/content/drive/MyDrive/2nd sem/Adv Big Data & AI/downloaded_video/Video_6/segment_3.mp4', '/content/drive/MyDrive/2nd sem/Adv Big Data & AI/downloaded_video/Video_6/segment_4.mp4', '/content/drive/MyDrive/2nd sem/Adv Big Data & AI/downloaded_video/Video_6/segment_5.mp4', '/content/drive/MyDrive/2nd sem/Adv Big Data & AI/downloaded_video/Video_6/segment_6.mp4', '/content/drive/MyDrive/2nd sem/Adv Big Data & AI/downloaded_video/Video_6/segment_7.mp4', '/content/drive/MyDrive/2nd sem/Adv Big Data & AI/downloaded_video/Video_6/segment_8.mp4', '/content/drive/MyDrive/2nd sem/Adv Big Data & AI/downloaded_video/Video_6/segment_9.mp4', '/content/drive/MyDrive/2nd sem/Adv Big Data & AI/downloaded_video/Video_6/segment_10.mp4', '/content/drive/MyDrive/2nd sem/Adv Big Data & AI/downloaded_video/Video_6/segment_11.mp4', '/content/drive/MyDrive/2nd sem/Adv Big Data & AI/downloaded_video/Video_6/segment_12.mp4', '/content/drive/MyDrive/2nd sem/Adv Big Data & AI/downloaded_video/Video_6/segment_13.mp4', '/content/drive/MyDrive/2nd sem/Adv Big Data & AI/downloaded_video/Video_6/segment_14.mp4', '/content/drive/MyDrive/2nd sem/Adv Big Data & AI/downloaded_video/Video_6/segment_15.mp4', '/content/drive/MyDrive/2nd sem/Adv Big Data & AI/downloaded_video/Video_6/segment_16.mp4', '/content/drive/MyDrive/2nd sem/Adv Big Data & AI/downloaded_video/Video_6/segment_17.mp4', '/content/drive/MyDrive/2nd sem/Adv Big Data & AI/downloaded_video/Video_6/segment_18.mp4', '/content/drive/MyDrive/2nd sem/Adv Big Data & AI/downloaded_video/Video_6/segment_19.mp4', '/content/drive/MyDrive/2nd sem/Adv Big Data & AI/downloaded_video/Video_6/segment_20.mp4', '/content/drive/MyDrive/2nd sem/Adv Big Data & AI/downloaded_video/Video_6/segment_21.mp4', '/content/drive/MyDrive/2nd sem/Adv Big Data & AI/downloaded_video/Video_6/segment_22.mp4', '/content/drive/MyDrive/2nd sem/Adv Big Data & AI/downloaded_video/Video_6/segment_23.mp4', '/content/drive/MyDrive/2nd sem/Adv Big Data & AI/downloaded_video/Video_6/segment_24.mp4', '/content/drive/MyDrive/2nd sem/Adv Big Data & AI/downloaded_video/Video_6/segment_25.mp4', '/content/drive/MyDrive/2nd sem/Adv Big Data & AI/downloaded_video/Video_6/segment_26.mp4', '/content/drive/MyDrive/2nd sem/Adv Big Data & AI/downloaded_video/Video_6/segment_27.mp4', '/content/drive/MyDrive/2nd sem/Adv Big Data & AI/downloaded_video/Video_6/segment_28.mp4', '/content/drive/MyDrive/2nd sem/Adv Big Data & AI/downloaded_video/Video_6/segment_29.mp4', '/content/drive/MyDrive/2nd sem/Adv Big Data & AI/downloaded_video/Video_6/segment_30.mp4', '/content/drive/MyDrive/2nd sem/Adv Big Data & AI/downloaded_video/Video_6/segment_31.mp4', '/content/drive/MyDrive/2nd sem/Adv Big Data & AI/downloaded_video/Video_6/segment_32.mp4', '/content/drive/MyDrive/2nd sem/Adv Big Data & AI/downloaded_video/Video_6/segment_33.mp4', '/content/drive/MyDrive/2nd sem/Adv Big Data & AI/downloaded_video/Video_6/segment_34.mp4', '/content/drive/MyDrive/2nd sem/Adv Big Data & AI/downloaded_video/Video_6/segment_35.mp4', '/content/drive/MyDrive/2nd sem/Adv Big Data & AI/downloaded_video/Video_6/segment_36.mp4', '/content/drive/MyDrive/2nd sem/Adv Big Data & AI/downloaded_video/Video_6/segment_37.mp4', '/content/drive/MyDrive/2nd sem/Adv Big Data & AI/downloaded_video/Video_6/segment_38.mp4', '/content/drive/MyDrive/2nd sem/Adv Big Data & AI/downloaded_video/Video_6/segment_39.mp4', '/content/drive/MyDrive/2nd sem/Adv Big Data & AI/downloaded_video/Video_6/segment_40.mp4', '/content/drive/MyDrive/2nd sem/Adv Big Data & AI/downloaded_video/Video_6/segment_41.mp4', '/content/drive/MyDrive/2nd sem/Adv Big Data & AI/downloaded_video/Video_6/segment_42.mp4', '/content/drive/MyDrive/2nd sem/Adv Big Data & AI/downloaded_video/Video_6/segment_43.mp4', '/content/drive/MyDrive/2nd sem/Adv Big Data & AI/downloaded_video/Video_6/segment_44.mp4', '/content/drive/MyDrive/2nd sem/Adv Big Data & AI/downloaded_video/Video_6/segment_45.mp4', '/content/drive/MyDrive/2nd sem/Adv Big Data & AI/downloaded_video/Video_6/segment_46.mp4', '/content/drive/MyDrive/2nd sem/Adv Big Data & AI/downloaded_video/Video_6/segment_47.mp4', '/content/drive/MyDrive/2nd sem/Adv Big Data & AI/downloaded_video/Video_6/segment_48.mp4', '/content/drive/MyDrive/2nd sem/Adv Big Data & AI/downloaded_video/Video_6/segment_49.mp4', '/content/drive/MyDrive/2nd sem/Adv Big Data & AI/downloaded_video/Video_6/segment_50.mp4', '/content/drive/MyDrive/2nd sem/Adv Big Data & AI/downloaded_video/Video_6/segment_51.mp4', '/content/drive/MyDrive/2nd sem/Adv Big Data & AI/downloaded_video/Video_6/segment_52.mp4', '/content/drive/MyDrive/2nd sem/Adv Big Data & AI/downloaded_video/Video_6/segment_53.mp4', '/content/drive/MyDrive/2nd sem/Adv Big Data & AI/downloaded_video/Video_6/segment_54.mp4']\n"
          ]
        }
      ]
    },
    {
      "cell_type": "code",
      "source": [],
      "metadata": {
        "id": "rReWL_bVyHxU"
      },
      "execution_count": null,
      "outputs": []
    }
  ]
}